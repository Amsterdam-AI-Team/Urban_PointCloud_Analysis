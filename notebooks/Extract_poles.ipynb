{
  "cells": [
    {
      "cell_type": "markdown",
      "source": [
        "# Extract pole-like street furniture\n",
        "\n",
        "In this notebook we demonstrate how we can extract pole-like objects form labeled point clouds.\n",
        "\n",
        "In this code we assume the point clouds have been labelled following the process in our [Urban PointCloud Processing](https://github.com/Amsterdam-AI-Team/Urban_PointCloud_Processing/tree/main/datasets) project. For more information on the specifics of the datasets used, see [the description there](https://github.com/Amsterdam-AI-Team/Urban_PointCloud_Processing/blob/main/datasets/README.md)."
      ],
      "metadata": {},
      "id": "00bb62b7-47e7-4b81-9179-bf2041107198"
    },
    {
      "cell_type": "code",
      "source": [
        "import numpy as np\n",
        "import pandas as pd\n",
        "import os\n",
        "import pathlib\n",
        "import laspy\n",
        "import uuid\n",
        "from tqdm import tqdm\n",
        "\n",
        "import set_path  # add project src to path\n",
        "from upcp.utils import las_utils\n",
        "from upcp.utils import ahn_utils\n",
        "import upcp.utils.bgt_utils as bgt_utils\n",
        "import upc_analysis.pole_extractor as extract\n",
        "\n",
        "import config as cf  # use config or config_azure"
      ],
      "outputs": [],
      "execution_count": null,
      "metadata": {
        "jupyter": {
          "source_hidden": false,
          "outputs_hidden": false
        },
        "nteract": {
          "transient": {
            "deleting": false
          }
        },
        "gather": {
          "logged": 1691582835423
        }
      },
      "id": "b049fae9-eda9-44f9-925c-34032be9ca78"
    },
    {
      "cell_type": "code",
      "source": [
        "# Retrieve paths to point cloud demo data\n",
        "files = list(pathlib.Path(cf.dataset_folder).glob(f'{cf.prefix}*.laz'))\n",
        "\n",
        "# Run extraction only on files bigger than 10kb\n",
        "files = [f for f in files if os.path.getsize(f) > 10000]\n",
        "\n",
        "# Create AHN data reader for elevation data\n",
        "# This is optional: the data is only used when the ground elevation\n",
        "# cannot be determined from the labeled point cloud itself.\n",
        "ahn_reader = ahn_utils.NPZReader(cf.ahn_data_folder, caching=False)\n",
        "\n",
        "# Create BGT data reader for building shapes\n",
        "# This is optional: the data is used to check whether an extracted\n",
        "# object is located within a building footprint. This might\n",
        "# indicate a false positive.\n",
        "if os.path.exists(cf.bgt_building_file):\n",
        "    bld_reader = bgt_utils.BGTPolyReader(cf.bgt_building_file)\n",
        "else:\n",
        "    bld_reader = None\n",
        "    print('no building file')"
      ],
      "outputs": [],
      "execution_count": null,
      "metadata": {
        "gather": {
          "logged": 1691582839455
        }
      },
      "id": "1b06e529-9eaf-4c05-9e76-259c58691f16"
    },
    {
      "cell_type": "markdown",
      "source": [
        "---\n",
        "## Extracting pole-like objects\n",
        "\n",
        "This method works by clustering points of a given target class, and then using statistics and PCA analysis on each cluster to determine the exact pole.The result is a dataset with the following features for each extracted object:\n",
        "```txt\n",
        "rd_x, rd_y, z = X, Y, Z coordinates of the base of the pole\n",
        "tx, ty, tz    = X, Y, Z coordinates of the top of the pole\n",
        "height        = the height of the pole, in m\n",
        "angle         = the angle of the pole, in degrees w.r.t. vertical\n",
        "prob          = the average probability of the classification, if this data is available in the point cloud \n",
        "m_r, m_g, m_b = mean RGB colors of the pole\n",
        "radius        = radius of the pole, in m\n",
        "n_points      = the number of points of the object\n",
        "in_bld        = flag that indicates whether the object is located inside a building footprint\n",
        "debug         = debug code, see below\n",
        "tilecode      = tilecode in which the object was found\n",
        "```\n",
        "The debug code `A_B` indicates potential issues with either the ground elevation (A) or the pole extraction (B). A can be either 0 (no problems), 1 (no ground elevation found in the point cloud), or 2 (no ground elevation found in AHN). B can be either 0 (no problems), 3 (not enough data to determine the angle), or 4 (not enough data to determine the exact location)."
      ],
      "metadata": {},
      "id": "d8dafeab-3383-4154-94b8-fd1d04db6d1e"
    },
    {
      "cell_type": "code",
      "source": [
        "# Create PoleExtractor object\n",
        "pole_extractor = extract.PoleExtractor(cf.target_label, cf.ground_labels,\n",
        "                                ahn_reader=ahn_reader, building_reader=bld_reader,\n",
        "                                eps_noise=cf.EPS_N, min_samples_noise=cf.MIN_SAMPLES_N,\n",
        "                                eps=cf.EPS, min_samples=cf.MIN_SAMPLES)   "
      ],
      "outputs": [],
      "execution_count": null,
      "metadata": {
        "gather": {
          "logged": 1691582841308
        }
      },
      "id": "4ecbac85"
    },
    {
      "cell_type": "code",
      "source": [
        "# Loop over point cloud files and extract objects\n",
        "locations = []\n",
        "for file in tqdm(files):\n",
        "    try:\n",
        "        with extract.TimeOut(240):\n",
        "            tilecode = las_utils.get_tilecode_from_filename(file.as_posix())\n",
        "            pc = laspy.read(file)\n",
        "            npz_file = np.load(cf.pred_folder + cf.prefix_pred + tilecode + '.npz')\n",
        "            labels = npz_file['label']\n",
        "            if 'probability' in pc.point_format.extra_dimension_names:\n",
        "                probabilities = pc.probability\n",
        "            else:\n",
        "                probabilities = np.zeros_like(labels)\n",
        "            if np.count_nonzero(labels == cf.target_label) > 0:\n",
        "                points = np.vstack((pc.x, pc.y, pc.z)).T\n",
        "                colors = np.vstack((pc.green, pc.red, pc.blue)).T\n",
        "                tile_locations = pole_extractor.get_pole_locations(points,\n",
        "                                                                   colors,\n",
        "                                                                   labels,\n",
        "                                                                   probabilities,\n",
        "                                                                   tilecode)\n",
        "                locations.extend([(*x, tilecode) for x in tile_locations])\n",
        "    except:\n",
        "        continue\n",
        "\n",
        "HEADERS = ['rd_x', 'rd_y', 'z', 'tx', 'ty', 'tz', 'height', 'angle', 'm_r', 'm_g', 'm_b',\n",
        "           'radius','prob', 'n_points', 'in_bld', 'debug', 'tilecode']\n",
        "poles_df = pd.DataFrame(locations, columns=HEADERS)\n",
        "\n",
        "print('# extracted poles: ', len(poles_df))\n",
        "poles_df.head(2)"
      ],
      "outputs": [],
      "execution_count": null,
      "metadata": {
        "gather": {
          "logged": 1691582895437
        },
        "scrolled": true
      },
      "id": "71f9df0a-09e8-45f7-8f3b-f253c3296020"
    },
    {
      "cell_type": "code",
      "source": [
        "# Add unique identifier to each row\n",
        "uuids = [uuid.uuid4() for _ in range(len(poles_df.index))]\n",
        "poles_df.insert(0, 'identifier', uuids)\n",
        "\n",
        "# Store all extracted poles\n",
        "poles_df.to_csv(cf.output_file, index=False)"
      ],
      "outputs": [],
      "execution_count": null,
      "metadata": {
        "gather": {
          "logged": 1691582899354
        }
      },
      "id": "f3ca74b3"
    },
    {
      "cell_type": "markdown",
      "source": [
        "### Filter out likely false positives"
      ],
      "metadata": {
        "nteract": {
          "transient": {
            "deleting": false
          }
        }
      },
      "id": "15730098-f0b0-4b49-b1f6-719509da554b"
    },
    {
      "cell_type": "code",
      "source": [
        "# Remove too small or large 'poles'\n",
        "poles_df = poles_df[poles_df['height'] > cf.MIN_HEIGHT]\n",
        "poles_df = poles_df[poles_df['height'] < cf.MAX_HEIGHT]\n",
        "print('# poles after height filter: ', len(poles_df))"
      ],
      "outputs": [],
      "execution_count": null,
      "metadata": {
        "gather": {
          "logged": 1691582900699
        },
        "jupyter": {
          "outputs_hidden": false,
          "source_hidden": false
        },
        "nteract": {
          "transient": {
            "deleting": false
          }
        }
      },
      "id": "aa3c671f-76bf-4bd9-a0a3-2ddfc73e7cff"
    },
    {
      "cell_type": "code",
      "source": [
        "# Remove 'poles' that are actually trees\n",
        "poles_df = extract.remove_tree_poles(cf.trees_file, poles_df, cf.MAX_TREE_DIST, cf.tree_area)\n",
        "print('# poles after tree filter: ', len(poles_df))"
      ],
      "outputs": [],
      "execution_count": null,
      "metadata": {
        "jupyter": {
          "source_hidden": false,
          "outputs_hidden": false
        },
        "nteract": {
          "transient": {
            "deleting": false
          }
        },
        "gather": {
          "logged": 1691582901611
        }
      },
      "id": "ee47b593-01f6-4533-8d2b-05d08204cf42"
    },
    {
      "cell_type": "code",
      "source": [
        "# Store remaining poles\n",
        "poles_df = poles_df.reset_index()\n",
        "poles_df.to_csv(cf.output_file_filter, index=False)"
      ],
      "outputs": [],
      "execution_count": null,
      "metadata": {
        "gather": {
          "logged": 1691582902354
        }
      },
      "id": "65b98623-56d8-4c9e-8268-69bbdf43429a"
    }
  ],
  "metadata": {
    "kernel_info": {
      "name": "python3"
    },
    "kernelspec": {
      "name": "python3",
      "language": "python",
      "display_name": "Python 3 (ipykernel)"
    },
    "language_info": {
      "name": "python",
      "version": "3.8.5",
      "mimetype": "text/x-python",
      "codemirror_mode": {
        "name": "ipython",
        "version": 3
      },
      "pygments_lexer": "ipython3",
      "nbconvert_exporter": "python",
      "file_extension": ".py"
    },
    "microsoft": {
      "host": {
        "AzureML": {
          "notebookHasBeenCompleted": true
        }
      },
      "ms_spell_check": {
        "ms_spell_check_language": "en"
      }
    },
    "nteract": {
      "version": "nteract-front-end@1.0.0"
    }
  },
  "nbformat": 4,
  "nbformat_minor": 5
}