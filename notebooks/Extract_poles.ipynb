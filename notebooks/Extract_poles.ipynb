{
  "cells": [
    {
      "cell_type": "code",
      "source": [
        "import signal\n",
        "\n",
        "class TimeOut:\n",
        "    \"\"\"force timing out for things that get stuck\"\"\"\n",
        "    def __init__(self, seconds=1, error_message='Timeout'):\n",
        "        self.seconds = seconds\n",
        "        self.error_message = error_message\n",
        "\n",
        "    def handle_timeout(self, signum, frame):\n",
        "        \"\"\"handle timeout\"\"\"\n",
        "        raise TimeoutError(self.error_message)\n",
        "\n",
        "    def __enter__(self):\n",
        "        signal.signal(signal.SIGALRM, self.handle_timeout)\n",
        "        signal.alarm(self.seconds)\n",
        "\n",
        "    def __exit__(self, type, value, traceback):\n",
        "        signal.alarm(0)"
      ],
      "outputs": [],
      "execution_count": null,
      "metadata": {
        "gather": {
          "logged": 1689186289301
        },
        "jupyter": {
          "outputs_hidden": false,
          "source_hidden": false
        },
        "nteract": {
          "transient": {
            "deleting": false
          }
        }
      },
      "id": "99548816-a8ac-4414-b20d-39ee5e9cdbb7"
    },
    {
      "cell_type": "markdown",
      "source": [
        "# Extract pole-like street furniture\n",
        "\n",
        "In this notebook we demonstrate how we can extract pole-like objects form labeled point clouds.\n",
        "\n",
        "In this code we assume the point clouds have been labelled following the process in our [Urban PointCloud Processing](https://github.com/Amsterdam-AI-Team/Urban_PointCloud_Processing/tree/main/datasets) project. For more information on the specifics of the datasets used, see [the description there](https://github.com/Amsterdam-AI-Team/Urban_PointCloud_Processing/blob/main/datasets/README.md)."
      ],
      "metadata": {},
      "id": "00bb62b7-47e7-4b81-9179-bf2041107198"
    },
    {
      "cell_type": "code",
      "source": [
        "# Add project src to path.\r\n",
        "import set_path\r\n",
        "\r\n",
        "import numpy as np\r\n",
        "import pandas as pd\r\n",
        "import geopandas as gpd\r\n",
        "import os\r\n",
        "import pathlib\r\n",
        "import laspy\r\n",
        "import uuid\r\n",
        "from tqdm import tqdm\r\n",
        "\r\n",
        "#from upcp.labels import Labels \r\n",
        "from labels import Labels\r\n",
        "from upcp.utils import las_utils\r\n",
        "from upcp.utils import ahn_utils\r\n",
        "import upcp.utils.bgt_utils as bgt_utils\r\n",
        "from upc_analysis import PoleExtractor"
      ],
      "outputs": [],
      "execution_count": null,
      "metadata": {
        "jupyter": {
          "source_hidden": false,
          "outputs_hidden": false
        },
        "nteract": {
          "transient": {
            "deleting": false
          }
        },
        "gather": {
          "logged": 1689186287149
        }
      },
      "id": "b049fae9-eda9-44f9-925c-34032be9ca78"
    },
    {
      "cell_type": "code",
      "source": [
        "# Select location\n",
        "#my_location = '201001' # Oost\n",
        "#my_location = '200923' # Zuidoost\n",
        "#my_location = '200921' # Centrum\n",
        "#my_location = '200920' # Nieuw-West\n",
        "#my_location = '200918' # Noord\n",
        "my_location = '200903' # Zuid\n",
        "#my_location = '200824' # West\n",
        "#my_location = '200823' # Haven\n",
        "\n",
        "# We provide some example data for demonstration purposes.\n",
        "base_folder = '/home/azureuser/cloudfiles/code/blobfuse/ovl'\n",
        "dataset_folder = f'{base_folder}/pointcloud/Unlabeled/Amsterdam/nl-amsd-{my_location}-7415-laz/las_processor_bundled_out/'  # folder with point clouds\n",
        "pred_folder = f'{base_folder}/predictions/nl-amsd-{my_location}-7415-laz/'  # folder with predictions as npz files\n",
        "prefix = 'filtered_'\n",
        "prefix_pred = 'pred_'\n",
        "files = list(pathlib.Path(dataset_folder).glob(f'{prefix}*.laz'))\n",
        "\n",
        "# Only predictions were made for files bigger than 10kb\n",
        "files = [f for f in files if os.path.getsize(f) > 10000]\n",
        "\n",
        "# Define the class we are interested in\n",
        "target_label = 60\n",
        "\n",
        "# Labels used for ground points ('Road' and 'Other ground')\n",
        "ground_labels = [1, 9]\n",
        "\n",
        "# AHN data reader for elevation data. This is optional: the data is only used when\n",
        "# the ground elevation cannot be determined from the labeled point cloud itself.\n",
        "ahn_data_folder = f'{base_folder}/ahn/Amsterdam/ahn4_npz/'\n",
        "ahn_reader = ahn_utils.NPZReader(ahn_data_folder, caching=False)\n",
        "\n",
        "# BGT data reader for building shapes. This is optional: the data is used to check\n",
        "# whether an extracted object is located within a building footprint. This might\n",
        "# indicate a false positive.\n",
        "# If an appropriate dataset is available, uncomment these lines to use it:\n",
        "if os.path.exists(f'{base_folder}/bgt/bgt_buildings_oost.csv'):\n",
        "    bgt_building_file = f'{base_folder}/bgt/bgt_buildings_oost.csv'\n",
        "    bld_reader = bgt_utils.BGTPolyReader(bgt_building_file)\n",
        "else:\n",
        "    bld_reader = None\n",
        "    print('no building file')\n",
        "\n",
        "# Trees data for filtering. This is optional: the data is used to check\n",
        "# whether an extracted object is located very close to a tree. This might\n",
        "# indicate a false positive.\n",
        "filename_trees = f'{base_folder}/trees/obj_vgo_boom_view.gpkg'\n",
        "\n",
        "# Settings for noise filtering\n",
        "EPS_N = 0.1\n",
        "MIN_SAMPLES_N = 50\n",
        "\n",
        "# Settings for clustering\n",
        "EPS = 0.1\n",
        "MIN_SAMPLES = 150"
      ],
      "outputs": [],
      "execution_count": null,
      "metadata": {
        "gather": {
          "logged": 1689186366094
        }
      },
      "id": "1b06e529-9eaf-4c05-9e76-259c58691f16"
    },
    {
      "cell_type": "code",
      "source": [
        "output_file = f'{base_folder}/poles_extracted_{my_location}.csv'\n",
        "output_file_filter = f'{base_folder}/poles_extracted_{my_location}_filtered.csv'\n",
        "\n",
        "# Define and create out folder for images of found clusters\n",
        "img_out_folder = f'{base_folder}/images/{my_location}/'\n",
        "if not os.path.isdir(img_out_folder):\n",
        "    os.makedirs(img_out_folder + 'object_all_axes/')\n",
        "    os.makedirs(img_out_folder + 'object_per_axis/x/')\n",
        "    os.makedirs(img_out_folder + 'object_per_axis/y/')"
      ],
      "outputs": [],
      "execution_count": null,
      "metadata": {
        "gather": {
          "logged": 1689232860721
        }
      },
      "id": "6da8cd30"
    },
    {
      "cell_type": "markdown",
      "source": [
        "---\n",
        "## Extracting pole-like objects\n",
        "\n",
        "This method works by clustering points of a given target class, and then using statistics and PCA analysis on each cluster to determine the exact pole.\n",
        "\n",
        "The result is a dataset with the following features for each extracted object:\n",
        "```txt\n",
        "rd_x, rd_y, z = X, Y, Z coordinates of the base of the pole\n",
        "tx, ty, tz    = X, Y, Z coordinates of the top of the pole\n",
        "height        = the height of the pole, in m\n",
        "angle         = the angle of the pole, in degrees w.r.t. vertical\n",
        "prob          = the average probability of the classification, if this data is available in the point cloud\n",
        "n_points      = the number of points of the object\n",
        "in_bld        = flag that indicates whether the object is located inside a building footprint\n",
        "debug         = debug code, see below\n",
        "tilecode      = tilecode in which the object was found\n",
        "```\n",
        "The debug code `A_B` indicates potential issues with either the ground elevation (A) or the pole extraction (B). A can be either 0 (no problems), 1 (no ground elevation found in the point cloud), or 2 (no ground elevation found in AHN). B can be either 0 (no problems), 3 (not enough data to determine the angle), or 4 (not enough data to determine the exact location)."
      ],
      "metadata": {},
      "id": "d8dafeab-3383-4154-94b8-fd1d04db6d1e"
    },
    {
      "cell_type": "code",
      "source": [
        "# Create PoleExtractor object\n",
        "pole_extractor = PoleExtractor(target_label, ground_labels,\n",
        "                               ahn_reader=ahn_reader, building_reader=bld_reader,\n",
        "                               eps_noise=EPS_N, min_samples_noise=MIN_SAMPLES_N,\n",
        "                               eps=EPS, min_samples=MIN_SAMPLES)   "
      ],
      "outputs": [],
      "execution_count": null,
      "metadata": {
        "gather": {
          "logged": 1689186366441
        }
      },
      "id": "4ecbac85"
    },
    {
      "cell_type": "code",
      "source": [
        "#files = files[:200]  # TODO remove"
      ],
      "outputs": [],
      "execution_count": null,
      "metadata": {
        "gather": {
          "logged": 1689186366589
        },
        "jupyter": {
          "outputs_hidden": false,
          "source_hidden": false
        },
        "nteract": {
          "transient": {
            "deleting": false
          }
        }
      },
      "id": "75eada73-3a28-4d6b-8bd0-cb81b6e5aeb2"
    },
    {
      "cell_type": "code",
      "source": [
        "# Loop over point cloud files and extract objects\n",
        "locations = []\n",
        "for file in tqdm(files):\n",
        "    try:\n",
        "        with TimeOut(240):\n",
        "            tilecode = las_utils.get_tilecode_from_filename(file.as_posix())\n",
        "            pc = laspy.read(file)\n",
        "            npz_file = np.load(pred_folder + prefix_pred + tilecode + '.npz')\n",
        "            labels = npz_file['label']\n",
        "            if 'probability' in pc.point_format.extra_dimension_names:\n",
        "                probabilities = pc.probability\n",
        "            else:\n",
        "                probabilities = np.zeros_like(labels)\n",
        "            if np.count_nonzero(labels == target_label) > 0:\n",
        "                points = np.vstack((pc.x, pc.y, pc.z)).T\n",
        "                colors = np.vstack((pc.green, pc.red, pc.blue)).T\n",
        "                tile_locations = pole_extractor.get_pole_locations(points, colors, labels, probabilities, tilecode)\n",
        "                locations.extend([(*x, tilecode) for x in tile_locations])\n",
        "    except:\n",
        "        continue\n",
        "\n",
        "HEADERS = ['rd_x', 'rd_y', 'z', 'tx', 'ty', 'tz', 'height', 'angle', 'm_r', 'm_g', 'm_b', 'radius','prob', 'n_points', 'in_bld', 'debug', 'tilecode']\n",
        "poles_df = pd.DataFrame(locations, columns=HEADERS)"
      ],
      "outputs": [],
      "execution_count": null,
      "metadata": {
        "gather": {
          "logged": 1689185376838
        },
        "scrolled": true
      },
      "id": "71f9df0a-09e8-45f7-8f3b-f253c3296020"
    },
    {
      "cell_type": "code",
      "source": [
        "print(len(poles_df))\n",
        "poles_df.head(2)"
      ],
      "outputs": [],
      "execution_count": null,
      "metadata": {
        "gather": {
          "logged": 1689185377105
        },
        "jupyter": {
          "outputs_hidden": false,
          "source_hidden": false
        },
        "nteract": {
          "transient": {
            "deleting": false
          }
        }
      },
      "id": "1c947b2b-05c9-474a-926c-ad3e2a69fa94"
    },
    {
      "attachments": {},
      "cell_type": "markdown",
      "source": [
        "#### Add unique identifier to each row"
      ],
      "metadata": {},
      "id": "a893a901"
    },
    {
      "cell_type": "code",
      "source": [
        "uuids = [uuid.uuid4() for _ in range(len(poles_df.index))]\n",
        "poles_df.insert(0, 'identifier', uuids)"
      ],
      "outputs": [],
      "execution_count": null,
      "metadata": {
        "gather": {
          "logged": 1689185377288
        }
      },
      "id": "f3ca74b3"
    },
    {
      "cell_type": "markdown",
      "source": [
        "#### Store unfiltered data"
      ],
      "metadata": {
        "nteract": {
          "transient": {
            "deleting": false
          }
        }
      },
      "id": "353636df-7ade-4eba-8b43-a3a001a2cfec"
    },
    {
      "cell_type": "code",
      "source": [
        "poles_df.to_csv(output_file, index=False)"
      ],
      "outputs": [],
      "execution_count": null,
      "metadata": {
        "gather": {
          "logged": 1689185377479
        },
        "jupyter": {
          "outputs_hidden": false,
          "source_hidden": false
        },
        "nteract": {
          "transient": {
            "deleting": false
          }
        }
      },
      "id": "13291b71-ad5e-4348-820a-b82a9e615763"
    },
    {
      "cell_type": "code",
      "source": [
        "poles_df = pd.read_csv(output_file) # TODO remove"
      ],
      "outputs": [],
      "execution_count": null,
      "metadata": {
        "jupyter": {
          "source_hidden": false,
          "outputs_hidden": false
        },
        "nteract": {
          "transient": {
            "deleting": false
          }
        },
        "gather": {
          "logged": 1689232872708
        }
      },
      "id": "60a75eaf-d91f-4690-85ac-d8f243d26922"
    },
    {
      "cell_type": "markdown",
      "source": [
        "### Filter out likely false positives"
      ],
      "metadata": {
        "nteract": {
          "transient": {
            "deleting": false
          }
        }
      },
      "id": "15730098-f0b0-4b49-b1f6-719509da554b"
    },
    {
      "cell_type": "markdown",
      "source": [
        "#### Remove too small or large poles"
      ],
      "metadata": {
        "nteract": {
          "transient": {
            "deleting": false
          }
        }
      },
      "id": "e4573231-b226-40b8-997f-cdce5c971eb2"
    },
    {
      "cell_type": "code",
      "source": [
        "poles_df = poles_df[poles_df['height'] > 1.8]\n",
        "poles_df = poles_df[poles_df['height'] < 16]\n",
        "len(poles_df)"
      ],
      "outputs": [],
      "execution_count": null,
      "metadata": {
        "gather": {
          "logged": 1689232879826
        },
        "jupyter": {
          "outputs_hidden": false,
          "source_hidden": false
        },
        "nteract": {
          "transient": {
            "deleting": false
          }
        }
      },
      "id": "aa3c671f-76bf-4bd9-a0a3-2ddfc73e7cff"
    },
    {
      "cell_type": "markdown",
      "source": [
        "#### Remove poles within buildings"
      ],
      "metadata": {
        "nteract": {
          "transient": {
            "deleting": false
          }
        }
      },
      "id": "83b929da-7d75-416b-922a-0a1f02922211"
    },
    {
      "cell_type": "code",
      "source": [
        "print(poles_df['in_bld'].value_counts())\n",
        "#poles_df = poles_df[poles_df['in_bld'] == 0]  # TODO investigate whether we can apply this filter\n",
        "#len(poles_df)"
      ],
      "outputs": [],
      "execution_count": null,
      "metadata": {
        "gather": {
          "logged": 1689232885807
        },
        "jupyter": {
          "outputs_hidden": false,
          "source_hidden": false
        },
        "nteract": {
          "transient": {
            "deleting": false
          }
        }
      },
      "id": "0e532452-9851-460f-9643-22ca6dba5405"
    },
    {
      "cell_type": "markdown",
      "source": [
        "#### Remove 'poles' that are actually trees"
      ],
      "metadata": {
        "nteract": {
          "transient": {
            "deleting": false
          }
        }
      },
      "id": "2e3c1579-f529-4367-948d-07567c30d280"
    },
    {
      "cell_type": "code",
      "source": [
        "# Get trees data\r\n",
        "df_trees = gpd.read_file(filename_trees)\r\n",
        "df_trees_o = df_trees[df_trees['Stadsdeel of kern'] == 'Zuid']  # 'Zuid', 'Oost', 'Zuidoost', 'Nieuw-West', 'Noord', 'West', 'Centrum', 'Westpoort'\r\n",
        "del df_trees\r\n",
        "df_trees_o.shape"
      ],
      "outputs": [],
      "execution_count": null,
      "metadata": {
        "gather": {
          "logged": 1689233297882
        },
        "jupyter": {
          "outputs_hidden": false,
          "source_hidden": false
        },
        "nteract": {
          "transient": {
            "deleting": false
          }
        }
      },
      "id": "240824f8-43c6-4451-96a8-3c93c1083d25"
    },
    {
      "cell_type": "code",
      "source": [
        "# Add buffer around trees\n",
        "df_trees_o['buffer'] = df_trees_o['geometry'].buffer(0.3)\n",
        "df_trees_o = df_trees_o.set_geometry('buffer')\n",
        "\n",
        "# Check whether pole is in buffered trees\n",
        "poles_df = gpd.GeoDataFrame(poles_df, geometry=gpd.points_from_xy(poles_df.rd_x, poles_df.rd_y), crs='EPSG:28992')\n",
        "gdf_sjoin = poles_df.sjoin(df_trees_o, predicate='within')\n",
        "\n",
        "# Remove poles that are within buffered trees\n",
        "poles_df = poles_df[~poles_df.index.isin(gdf_sjoin.index)]\n",
        "len(poles_df)"
      ],
      "outputs": [],
      "execution_count": null,
      "metadata": {
        "gather": {
          "logged": 1689233298285
        },
        "jupyter": {
          "outputs_hidden": false,
          "source_hidden": false
        },
        "nteract": {
          "transient": {
            "deleting": false
          }
        }
      },
      "id": "a4dba022-f66f-4006-ad27-107a63371fe6"
    },
    {
      "cell_type": "markdown",
      "source": [
        "#### Store filtered data"
      ],
      "metadata": {
        "nteract": {
          "transient": {
            "deleting": false
          }
        }
      },
      "id": "a4f0e130-0e37-4408-b095-320eac357f66"
    },
    {
      "cell_type": "code",
      "source": [
        "# Save the data in CSV format.\n",
        "poles_df = poles_df.reset_index()\n",
        "poles_df.to_csv(output_file_filter, index=False)"
      ],
      "outputs": [],
      "execution_count": null,
      "metadata": {
        "gather": {
          "logged": 1689233515717
        }
      },
      "id": "65b98623-56d8-4c9e-8268-69bbdf43429a"
    }
  ],
  "metadata": {
    "kernel_info": {
      "name": "python3"
    },
    "kernelspec": {
      "name": "python3",
      "language": "python",
      "display_name": "Python 3 (ipykernel)"
    },
    "language_info": {
      "name": "python",
      "version": "3.8.5",
      "mimetype": "text/x-python",
      "codemirror_mode": {
        "name": "ipython",
        "version": 3
      },
      "pygments_lexer": "ipython3",
      "nbconvert_exporter": "python",
      "file_extension": ".py"
    },
    "microsoft": {
      "host": {
        "AzureML": {
          "notebookHasBeenCompleted": true
        }
      },
      "ms_spell_check": {
        "ms_spell_check_language": "en"
      }
    },
    "nteract": {
      "version": "nteract-front-end@1.0.0"
    }
  },
  "nbformat": 4,
  "nbformat_minor": 5
}