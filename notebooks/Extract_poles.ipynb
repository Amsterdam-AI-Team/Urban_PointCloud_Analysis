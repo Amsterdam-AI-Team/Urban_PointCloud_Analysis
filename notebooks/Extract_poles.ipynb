{
 "cells": [
  {
   "cell_type": "markdown",
   "id": "00bb62b7-47e7-4b81-9179-bf2041107198",
   "metadata": {},
   "source": [
    "# Extract pole-like street furniture\n",
    "\n",
    "In this notebook we demonstrate how we can extract pole-like objects form labeled point clouds.\n",
    "\n",
    "In this code we assume the point clouds have been labelled following the process in our [Urban PointCloud Processing](https://github.com/Amsterdam-AI-Team/Urban_PointCloud_Processing/tree/main/datasets) project. For more information on the specifics of the datasets used, see [the description there](https://github.com/Amsterdam-AI-Team/Urban_PointCloud_Processing/blob/main/datasets/README.md)."
   ]
  },
  {
   "cell_type": "code",
   "execution_count": null,
   "id": "da8c625f-535b-46a7-98b7-8f430eb8e622",
   "metadata": {},
   "outputs": [],
   "source": [
    "# Add project src to path.\n",
    "import set_path\n",
    "\n",
    "import numpy as np\n",
    "import pandas as pd\n",
    "import os\n",
    "import pathlib\n",
    "import laspy\n",
    "from tqdm import tqdm\n",
    "from sklearn.cluster import DBSCAN \n",
    "\n",
    "#from upcp.labels import Labels # TODO change back and remove labels.py (after update wheel)\n",
    "from labels import Labels\n",
    "from upcp.utils import las_utils\n",
    "from upcp.utils import ahn_utils\n",
    "import upcp.utils.bgt_utils as bgt_utils\n",
    "from upc_analysis import PoleExtractor \n",
    "from upc_analysis import visualization "
   ]
  },
  {
   "cell_type": "code",
   "execution_count": null,
   "id": "1b06e529-9eaf-4c05-9e76-259c58691f16",
   "metadata": {},
   "outputs": [],
   "source": [
    "# We provide some example data for demonstration purposes.\n",
    "dataset_folder = '../datasets/pointcloud/' \n",
    "prefix = 'final_'\n",
    "files = list(pathlib.Path(dataset_folder).glob(f'{prefix}*.laz'))\n",
    "\n",
    "# Define the class we are interested in\n",
    "target_label = 60  \n",
    "\n",
    "# Labels used for ground points ('Road' and 'Other ground')\n",
    "ground_labels = [1, 9]\n",
    "\n",
    "# AHN data reader for elevation data. This is optional: the data is only used when\n",
    "# the ground elevation cannot be determined from the labeled point cloud itself.\n",
    "ahn_data_folder = '../datasets/ahn/'\n",
    "ahn_reader = ahn_utils.NPZReader(ahn_data_folder, caching=False)\n",
    "\n",
    "# BGT data reader for building shapes. This is optional: the data is used to check\n",
    "# whether an extracted object is located within a building footprint. This might\n",
    "# indicate a false positive.\n",
    "# If an appropriate dataset is available, uncomment these lines to use it:\n",
    "if os.path.exists('../datasets/bgt/bgt_buildings_oost.csv'):\n",
    "    bgt_building_file = '../datasets/bgt/bgt_buildings_oost.csv'    \n",
    "    bld_reader = bgt_utils.BGTPolyReader(bgt_building_file)\n",
    "else:\n",
    "    bld_reader = None"
   ]
  },
  {
   "cell_type": "code",
   "execution_count": null,
   "id": "34c817b3",
   "metadata": {},
   "outputs": [],
   "source": [
    "# Settings for clustering\n",
    "MIN_SAMPLES = 100\n",
    "EPS = 0.6"
   ]
  },
  {
   "cell_type": "code",
   "execution_count": null,
   "id": "6da8cd30",
   "metadata": {},
   "outputs": [],
   "source": [
    "my_settings = str(MIN_SAMPLES) + '_' + str(int(EPS*10))\n",
    "output_file = '../datasets/poles_extracted_' + my_settings + '.csv'"
   ]
  },
  {
   "cell_type": "markdown",
   "id": "d8dafeab-3383-4154-94b8-fd1d04db6d1e",
   "metadata": {},
   "source": [
    "---\n",
    "## Extracting pole-like objects\n",
    "\n",
    "This method works by clustering points of a given target class, and then using statistics and PCA analysis on each cluster to determine the exact pole.\n",
    "\n",
    "The result is a dataset with the following features for each extracted object:\n",
    "```txt\n",
    "rd_x, rd_y, z = X, Y, Z coordinates of the base of the pole\n",
    "tx, ty, tz    = X, Y, Z coordinates of the top of the pole\n",
    "height        = the height of the pole, in m\n",
    "angle         = the angle of the pole, in degrees w.r.t. vertical\n",
    "prob          = the average probability of the classification, if this data is available in the point cloud\n",
    "n_points      = the number of points of the object\n",
    "in_bld        = flag that indicates whether the object is located inside a building footprint\n",
    "debug         = debug code, see below\n",
    "tilecode      = tilecode in which the object was found\n",
    "```\n",
    "The debug code `A_B` indicates potential issues with either the ground elevation (A) or the pole extraction (B). A can be either 0 (no problems), 1 (no ground elevation found in the point cloud), or 2 (no ground elevation found in AHN). B can be either 0 (no problems), 3 (not enough data to determine the angle), or 4 (not enough data to determine the exact location)."
   ]
  },
  {
   "cell_type": "code",
   "execution_count": null,
   "id": "4ecbac85",
   "metadata": {},
   "outputs": [],
   "source": [
    "# Create PoleExtractor object\n",
    "pole_extractor = PoleExtractor(target_label, ground_labels,\n",
    "                              ahn_reader=ahn_reader, building_reader=bld_reader,\n",
    "                               min_samples=MIN_SAMPLES, eps=EPS)   "
   ]
  },
  {
   "cell_type": "code",
   "execution_count": null,
   "id": "71f9df0a-09e8-45f7-8f3b-f253c3296020",
   "metadata": {},
   "outputs": [],
   "source": [
    "# Loop over point cloud files and extract objects\n",
    "locations = []\n",
    "for file in tqdm(files):\n",
    "    tilecode = las_utils.get_tilecode_from_filename(file.as_posix())\n",
    "    pc = laspy.read(file)\n",
    "#    labels = pc.label\n",
    "    labels = pc.final_label\n",
    "    if 'probability' in pc.point_format.extra_dimension_names:\n",
    "        probabilities = pc.probability\n",
    "    else:\n",
    "        probabilities = np.zeros_like(labels)\n",
    "\n",
    "    if np.count_nonzero(labels == target_label) > 0:\n",
    "        points = np.vstack((pc.x, pc.y, pc.z)).T\n",
    "        tile_locations = pole_extractor.get_pole_locations(points, labels, probabilities, tilecode)\n",
    "        locations.extend([(*x, tilecode) for x in tile_locations])\n",
    "\n",
    "HEADERS = ['rd_x', 'rd_y', 'z', 'tx', 'ty', 'tz', 'height', 'angle', 'prob', 'n_points', 'in_bld', 'debug', 'tilecode']\n",
    "poles_df = pd.DataFrame(locations, columns=HEADERS)"
   ]
  },
  {
   "cell_type": "code",
   "execution_count": null,
   "id": "65b98623-56d8-4c9e-8268-69bbdf43429a",
   "metadata": {},
   "outputs": [],
   "source": [
    "# Save the data in CSV format.\n",
    "poles_df.to_csv(output_file, index=False)"
   ]
  },
  {
   "cell_type": "markdown",
   "id": "5a82265b-3d68-444c-934b-fc22fc394d8a",
   "metadata": {},
   "source": [
    "---\n",
    "## Visualize extracted poles\n",
    "\n",
    "In order to verify the results and spot potential issues, we can visualize individual objects. The visualization renders the object from two directions (X and Y axis), along with a 3D projection."
   ]
  },
  {
   "cell_type": "code",
   "execution_count": null,
   "id": "02f3aa67-c758-417f-a440-96a13866b197",
   "metadata": {},
   "outputs": [],
   "source": [
    "# Optional: load data from CSV.\n",
    "poles_df = pd.read_csv(output_file)"
   ]
  },
  {
   "cell_type": "code",
   "execution_count": null,
   "id": "a65232bf",
   "metadata": {},
   "outputs": [],
   "source": [
    "len(poles_df)"
   ]
  },
  {
   "cell_type": "markdown",
   "id": "7f62255a",
   "metadata": {},
   "source": [
    "#### Loop over all poles"
   ]
  },
  {
   "cell_type": "code",
   "execution_count": null,
   "id": "15dc979d",
   "metadata": {},
   "outputs": [],
   "source": [
    "%matplotlib inline"
   ]
  },
  {
   "cell_type": "code",
   "execution_count": null,
   "id": "7d813453",
   "metadata": {},
   "outputs": [],
   "source": [
    "for row_id in range(0, len(poles_df)): \n",
    "    # Get the object features\n",
    "    obj = poles_df.loc[row_id]\n",
    "    obj_location = (obj.rd_x, obj.rd_y, obj.z)\n",
    "    obj_top = (obj.tx, obj.ty, obj.tz)\n",
    "\n",
    "    # Load the point cloud data for the tile containing this object\n",
    "    cloud = laspy.read(f'{dataset_folder}{prefix}{obj.tilecode}.laz')\n",
    "    points = np.vstack((cloud.x, cloud.y, cloud.z)).T\n",
    "    labels = cloud.final_label\n",
    "    colors = np.vstack((cloud.red, cloud.green, cloud.blue)).T / (2**16 - 1)\n",
    "\n",
    "    # Get a mask for the point cloud around the object's location\n",
    "    obj_mask = visualization.get_mask_for_obj(points, labels, target_label, obj_location, obj_top[2],\n",
    "                                              obj_angle=obj.angle, min_samples=MIN_SAMPLES,\n",
    "                                              eps=EPS, noise_filter=True)\n",
    "    \n",
    "    # Create path to store output image\n",
    "    output_path = '../datasets/output/output_image_' + my_settings + '_' + str(row_id) + '.png'\n",
    "\n",
    "    # Show the object and store\n",
    "    visualization.plot_object(points[obj_mask], labels[obj_mask], colors=colors[obj_mask],\n",
    "                              estimate=np.vstack((obj_location, obj_top)), output_path=output_path)"
   ]
  },
  {
   "cell_type": "markdown",
   "id": "968772da",
   "metadata": {},
   "source": [
    "#### Look at one pole"
   ]
  },
  {
   "cell_type": "code",
   "execution_count": null,
   "id": "dc253aee-f662-4155-8dfe-a99969781cfc",
   "metadata": {},
   "outputs": [],
   "source": [
    "# Either choose a row number of sample one randomly\n",
    "row_id = 0\n",
    "# idx = np.random.randint(0, len(poles_df))\n",
    "# row_id = poles_df.index[idx]\n",
    "\n",
    "# Get the object features\n",
    "obj = poles_df.loc[row_id]\n",
    "obj_location = (obj.rd_x, obj.rd_y, obj.z)\n",
    "obj_top = (obj.tx, obj.ty, obj.tz)\n",
    "\n",
    "# Let's see the object in question\n",
    "poles_df.loc[[row_id]]"
   ]
  },
  {
   "cell_type": "code",
   "execution_count": null,
   "id": "0e7ccc49-e507-4e4c-b05e-9f462070d97f",
   "metadata": {},
   "outputs": [],
   "source": [
    "# Load the point cloud data for the tile containing this object\n",
    "cloud = laspy.read(f'{dataset_folder}{prefix}{obj.tilecode}.laz')\n",
    "points = np.vstack((cloud.x, cloud.y, cloud.z)).T\n",
    "labels = cloud.final_label\n",
    "colors = np.vstack((cloud.red, cloud.green, cloud.blue)).T / (2**16 - 1)"
   ]
  },
  {
   "cell_type": "code",
   "execution_count": null,
   "id": "c6025860",
   "metadata": {},
   "outputs": [],
   "source": [
    "# Get a mask for the point cloud around the object's location\n",
    "obj_mask = visualization.get_mask_for_obj(points, labels, target_label, obj_location, obj_top[2],\n",
    "                                          obj_angle=obj.angle, min_samples=MIN_SAMPLES,\n",
    "                                          eps=EPS, noise_filter=True)\n",
    "\n",
    "# Create path to store output image\n",
    "output_path = '../datasets/output/output_image_' + my_settings + '_' + str(row_id) + '.png'\n",
    "\n",
    "# Show the object and store\n",
    "visualization.plot_object(points[obj_mask], labels[obj_mask], colors=colors[obj_mask],\n",
    "                          estimate=np.vstack((obj_location, obj_top)), output_path=output_path)"
   ]
  },
  {
   "cell_type": "code",
   "execution_count": null,
   "id": "b3a70086",
   "metadata": {},
   "outputs": [],
   "source": [
    "# Print location (to be pasted in Google Maps)\n",
    "import geopandas as gpd\n",
    "import shapely.geometry as sg\n",
    "my_lon = float(poles_df.loc[[row_id]]['rd_x'])\n",
    "my_lat = float(poles_df.loc[[row_id]]['rd_y'])\n",
    "df_loc = gpd.GeoDataFrame({'geometry': [sg.Point(my_lon, my_lat)]}, crs='epsg:28992').to_crs(\"epsg:4326\") \n",
    "print(float(df_loc['geometry'].y), float(df_loc['geometry'].x))"
   ]
  }
 ],
 "metadata": {
  "kernelspec": {
   "display_name": "Python 3 (ipykernel)",
   "language": "python",
   "name": "python3"
  },
  "language_info": {
   "codemirror_mode": {
    "name": "ipython",
    "version": 3
   },
   "file_extension": ".py",
   "mimetype": "text/x-python",
   "name": "python",
   "nbconvert_exporter": "python",
   "pygments_lexer": "ipython3",
   "version": "3.10.3"
  }
 },
 "nbformat": 4,
 "nbformat_minor": 5
}
