{
  "cells": [
    {
      "cell_type": "code",
      "source": [
        "import signal\n",
        "\n",
        "class TimeOut:\n",
        "    \"\"\"force timing out for things that get stuck\"\"\"\n",
        "    def __init__(self, seconds=1, error_message='Timeout'):\n",
        "        self.seconds = seconds\n",
        "        self.error_message = error_message\n",
        "\n",
        "    def handle_timeout(self, signum, frame):\n",
        "        \"\"\"handle timeout\"\"\"\n",
        "        raise TimeoutError(self.error_message)\n",
        "\n",
        "    def __enter__(self):\n",
        "        signal.signal(signal.SIGALRM, self.handle_timeout)\n",
        "        signal.alarm(self.seconds)\n",
        "\n",
        "    def __exit__(self, type, value, traceback):\n",
        "        signal.alarm(0)"
      ],
      "outputs": [],
      "execution_count": null,
      "metadata": {
        "jupyter": {
          "source_hidden": false,
          "outputs_hidden": false
        },
        "nteract": {
          "transient": {
            "deleting": false
          }
        },
        "gather": {
          "logged": 1683796417395
        }
      },
      "id": "99548816-a8ac-4414-b20d-39ee5e9cdbb7"
    },
    {
      "cell_type": "markdown",
      "source": [
        "# Extract pole-like street furniture\n",
        "\n",
        "In this notebook we demonstrate how we can extract pole-like objects form labeled point clouds.\n",
        "\n",
        "In this code we assume the point clouds have been labelled following the process in our [Urban PointCloud Processing](https://github.com/Amsterdam-AI-Team/Urban_PointCloud_Processing/tree/main/datasets) project. For more information on the specifics of the datasets used, see [the description there](https://github.com/Amsterdam-AI-Team/Urban_PointCloud_Processing/blob/main/datasets/README.md)."
      ],
      "metadata": {},
      "id": "00bb62b7-47e7-4b81-9179-bf2041107198"
    },
    {
      "cell_type": "code",
      "source": [
        "# Add project src to path.\n",
        "import set_path\n",
        "\n",
        "import numpy as np\n",
        "import pandas as pd\n",
        "import os\n",
        "import pathlib\n",
        "import laspy\n",
        "from tqdm import tqdm\n",
        "\n",
        "#from upcp.labels import Labels \n",
        "from labels import Labels\n",
        "from upcp.utils import las_utils\n",
        "from upcp.utils import ahn_utils\n",
        "import upcp.utils.bgt_utils as bgt_utils\n",
        "from upc_analysis import PoleExtractor \n",
        "from upc_analysis import visualization "
      ],
      "outputs": [],
      "execution_count": null,
      "metadata": {
        "gather": {
          "logged": 1683796420361
        }
      },
      "id": "da8c625f-535b-46a7-98b7-8f430eb8e622"
    },
    {
      "cell_type": "code",
      "source": [
        "base_folder = '../../../code/blobfuse/ovl'\n",
        "\n",
        "# We provide some example data for demonstration purposes.\n",
        "dataset_folder = f'{base_folder}/pointcloud/' # folder with point clouds\n",
        "pred_folder = f'{base_folder}/preds/' # folder with predictions as npz files\n",
        "prefix = 'filtered_'\n",
        "prefix_pred = 'pred_'\n",
        "files = list(pathlib.Path(dataset_folder).glob(f'{prefix}*.laz'))\n",
        "\n",
        "# Only predictions were made for files bigger than 10kb\n",
        "files = [f for f in files if os.path.getsize(f) > 10000] \n",
        "\n",
        "# Define the class we are interested in\n",
        "target_label = 60  \n",
        "\n",
        "# Labels used for ground points ('Road' and 'Other ground')\n",
        "ground_labels = [1, 9]\n",
        "\n",
        "# AHN data reader for elevation data. This is optional: the data is only used when\n",
        "# the ground elevation cannot be determined from the labeled point cloud itself.\n",
        "ahn_data_folder = f'{base_folder}/ahn/'\n",
        "ahn_reader = ahn_utils.NPZReader(ahn_data_folder, caching=False)\n",
        "\n",
        "# BGT data reader for building shapes. This is optional: the data is used to check\n",
        "# whether an extracted object is located within a building footprint. This might\n",
        "# indicate a false positive.\n",
        "# If an appropriate dataset is available, uncomment these lines to use it:\n",
        "if os.path.exists(f'{base_folder}/bgt/bgt_buildings_oost.csv'):\n",
        "    bgt_building_file = f'{base_folder}/bgt/bgt_buildings_oost.csv'\n",
        "    bld_reader = bgt_utils.BGTPolyReader(bgt_building_file)\n",
        "else:\n",
        "    bld_reader = None\n",
        "\n",
        "# Settings for noise filtering\n",
        "EPS_N = 0.1 # 0.4\n",
        "MIN_SAMPLES_N = 50 # 10\n",
        "\n",
        "# Settings for clustering\n",
        "EPS = 0.1 # 1\n",
        "MIN_SAMPLES = 150 # 200\n"
      ],
      "outputs": [],
      "execution_count": null,
      "metadata": {
        "gather": {
          "logged": 1683796420679
        }
      },
      "id": "1b06e529-9eaf-4c05-9e76-259c58691f16"
    },
    {
      "cell_type": "code",
      "source": [
        "import time\n",
        "timestr = time.strftime(\"%Y%m%d-%H%M%S\")\n",
        "\n",
        "my_settings = str(MIN_SAMPLES_N) + '_' + str(int(EPS_N*10)) + '_' + str(MIN_SAMPLES) + '_' + str(int(EPS*10))\n",
        "output_file = f'{base_folder}/{timestr}_poles_extracted_' + my_settings + '.csv'\n",
        "\n",
        "# Define and create out folder for images of found clusters\n",
        "img_out_folder = f'{base_folder}/images/{timestr}/'\n",
        "if not os.path.isdir(img_out_folder):\n",
        "    os.makedirs(img_out_folder + 'object_all_axes/')\n",
        "    os.makedirs(img_out_folder + 'object_per_axis/x/')\n",
        "    os.makedirs(img_out_folder + 'object_per_axis/y/')"
      ],
      "outputs": [],
      "execution_count": null,
      "metadata": {
        "gather": {
          "logged": 1683796420954
        }
      },
      "id": "6da8cd30"
    },
    {
      "cell_type": "markdown",
      "source": [
        "---\n",
        "## Extracting pole-like objects\n",
        "\n",
        "This method works by clustering points of a given target class, and then using statistics and PCA analysis on each cluster to determine the exact pole.\n",
        "\n",
        "The result is a dataset with the following features for each extracted object:\n",
        "```txt\n",
        "rd_x, rd_y, z = X, Y, Z coordinates of the base of the pole\n",
        "tx, ty, tz    = X, Y, Z coordinates of the top of the pole\n",
        "height        = the height of the pole, in m\n",
        "angle         = the angle of the pole, in degrees w.r.t. vertical\n",
        "prob          = the average probability of the classification, if this data is available in the point cloud\n",
        "n_points      = the number of points of the object\n",
        "in_bld        = flag that indicates whether the object is located inside a building footprint\n",
        "debug         = debug code, see below\n",
        "tilecode      = tilecode in which the object was found\n",
        "```\n",
        "The debug code `A_B` indicates potential issues with either the ground elevation (A) or the pole extraction (B). A can be either 0 (no problems), 1 (no ground elevation found in the point cloud), or 2 (no ground elevation found in AHN). B can be either 0 (no problems), 3 (not enough data to determine the angle), or 4 (not enough data to determine the exact location)."
      ],
      "metadata": {},
      "id": "d8dafeab-3383-4154-94b8-fd1d04db6d1e"
    },
    {
      "cell_type": "code",
      "source": [
        "# Create PoleExtractor object\n",
        "pole_extractor = PoleExtractor(target_label, ground_labels,\n",
        "                               ahn_reader=ahn_reader, building_reader=bld_reader,\n",
        "                               eps_noise=EPS_N, min_samples_noise=MIN_SAMPLES_N,\n",
        "                               eps=EPS, min_samples=MIN_SAMPLES)   "
      ],
      "outputs": [],
      "execution_count": null,
      "metadata": {
        "gather": {
          "logged": 1683796421131
        }
      },
      "id": "4ecbac85"
    },
    {
      "cell_type": "code",
      "source": [
        "# Loop over point cloud files and extract objects\n",
        "locations = []\n",
        "for file in tqdm(files):\n",
        "    try:\n",
        "        with TimeOut(240):\n",
        "            tilecode = las_utils.get_tilecode_from_filename(file.as_posix())\n",
        "            pc = laspy.read(file)\n",
        "            npz_file = np.load(pred_folder + prefix_pred + tilecode + '.npz')\n",
        "            labels = npz_file['label']\n",
        "            if 'probability' in pc.point_format.extra_dimension_names:\n",
        "                probabilities = pc.probability\n",
        "            else:\n",
        "                probabilities = np.zeros_like(labels)\n",
        "            if np.count_nonzero(labels == target_label) > 0:\n",
        "                points = np.vstack((pc.x, pc.y, pc.z)).T\n",
        "                colors = np.vstack((pc.green, pc.red, pc.blue)).T\n",
        "                tile_locations = pole_extractor.get_pole_locations(points, colors, labels, probabilities, tilecode)\n",
        "                locations.extend([(*x, tilecode) for x in tile_locations])\n",
        "    except:\n",
        "        continue\n",
        "\n",
        "HEADERS = ['rd_x', 'rd_y', 'z', 'tx', 'ty', 'tz', 'height', 'angle', 'm_r', 'm_g', 'm_b', 'radius','prob', 'n_points', 'in_bld', 'debug', 'tilecode']\n",
        "poles_df = pd.DataFrame(locations, columns=HEADERS)"
      ],
      "outputs": [],
      "execution_count": null,
      "metadata": {
        "scrolled": true,
        "gather": {
          "logged": 1683796430566
        }
      },
      "id": "71f9df0a-09e8-45f7-8f3b-f253c3296020"
    },
    {
      "cell_type": "code",
      "source": [
        "print(len(poles_df))\r\n",
        "poles_df.head(2)"
      ],
      "outputs": [],
      "execution_count": null,
      "metadata": {
        "jupyter": {
          "source_hidden": false,
          "outputs_hidden": false
        },
        "nteract": {
          "transient": {
            "deleting": false
          }
        },
        "gather": {
          "logged": 1683796430767
        }
      },
      "id": "1c947b2b-05c9-474a-926c-ad3e2a69fa94"
    },
    {
      "cell_type": "code",
      "source": [
        "# Save the data in CSV format.\n",
        "poles_df.to_csv(output_file, index=False)"
      ],
      "outputs": [],
      "execution_count": null,
      "metadata": {
        "gather": {
          "logged": 1683796430935
        }
      },
      "id": "65b98623-56d8-4c9e-8268-69bbdf43429a"
    },
    {
      "cell_type": "markdown",
      "source": [
        "---\n",
        "## Visualize extracted poles\n",
        "\n",
        "In order to verify the results and spot potential issues, we can visualize individual objects. The visualization renders the object from two directions (X and Y axis), along with a 3D projection."
      ],
      "metadata": {},
      "id": "5a82265b-3d68-444c-934b-fc22fc394d8a"
    },
    {
      "cell_type": "code",
      "source": [
        "# Optional: load data from CSV.\n",
        "poles_df = pd.read_csv(output_file)"
      ],
      "outputs": [],
      "execution_count": null,
      "metadata": {
        "gather": {
          "logged": 1683796431119
        }
      },
      "id": "02f3aa67-c758-417f-a440-96a13866b197"
    },
    {
      "cell_type": "markdown",
      "source": [
        "#### Loop over all poles"
      ],
      "metadata": {},
      "id": "7f62255a"
    },
    {
      "cell_type": "code",
      "source": [
        "# Save png of object x, y and 3d axis\n",
        "for idx, obj in poles_df.iterrows():\n",
        "    obj_location = (obj.rd_x, obj.rd_y, obj.z)\n",
        "    obj_top = (obj.tx, obj.ty, obj.tz)\n",
        "    cloud = laspy.read(f'{dataset_folder}{prefix}{obj.tilecode}.laz')\n",
        "    points = np.vstack((cloud.x, cloud.y, cloud.z)).T\n",
        "    npz_file = np.load(pred_folder + prefix_pred + obj.tilecode + '.npz')\n",
        "    labels = npz_file['label']\n",
        "    colors = np.vstack((cloud.red, cloud.green, cloud.blue)).T / (2**16 - 1)\n",
        "\n",
        "    # Get a mask for the point cloud around the object's location\n",
        "    obj_mask = visualization.get_mask_for_obj(points, obj_location, obj_top[2])\n",
        "    if sum(obj_mask) > 0:\n",
        "        # Show and save the object\n",
        "        write_path = img_out_folder + 'object_all_axes' \n",
        "        visualization.generate_png_all_axes(idx, points[obj_mask], labels[obj_mask], \n",
        "                            write_path, colors=colors[obj_mask], estimate=np.vstack((obj_location, obj_top)))"
      ],
      "outputs": [],
      "execution_count": null,
      "metadata": {
        "gather": {
          "logged": 1683796488142
        }
      },
      "id": "7d813453"
    },
    {
      "cell_type": "code",
      "source": [
        "# Save png of object per axis\r\n",
        "for idx, obj in poles_df.iterrows():\r\n",
        "    obj_location = (obj.rd_x, obj.rd_y, obj.z)\r\n",
        "    obj_top = (obj.tx, obj.ty, obj.tz)\r\n",
        "    cloud = laspy.read(f'{dataset_folder}{prefix}{obj.tilecode}.laz')\r\n",
        "    points = np.vstack((cloud.x, cloud.y, cloud.z)).T\r\n",
        "    npz_file = np.load(pred_folder + prefix_pred + obj.tilecode + '.npz')\r\n",
        "    labels = npz_file['label']\r\n",
        "    colors = np.vstack((cloud.red, cloud.green, cloud.blue)).T / (2**16 - 1)\r\n",
        "    \r\n",
        "    # Get a mask for the point cloud around the object's location\r\n",
        "    obj_mask = visualization.get_mask_for_obj(points, obj_location, obj_top[2])\r\n",
        "    if sum(obj_mask) > 0:\r\n",
        "        # Save the objects\r\n",
        "        write_path = img_out_folder + 'object_per_axis'\r\n",
        "        visualization.generate_png_single_axis(idx, points[obj_mask], \r\n",
        "                                               labels[obj_mask], write_path, plot_axis='x')\r\n",
        "        visualization.generate_png_single_axis(idx, points[obj_mask], \r\n",
        "                                               labels[obj_mask], write_path, plot_axis='y')"
      ],
      "outputs": [],
      "execution_count": null,
      "metadata": {
        "jupyter": {
          "source_hidden": false,
          "outputs_hidden": false
        },
        "nteract": {
          "transient": {
            "deleting": false
          }
        },
        "gather": {
          "logged": 1683796332231
        }
      },
      "id": "b200ab39-44c3-4086-91c7-2e7e5c034ec5"
    },
    {
      "cell_type": "markdown",
      "source": [
        "#### Look at one pole"
      ],
      "metadata": {},
      "id": "968772da"
    },
    {
      "cell_type": "code",
      "source": [
        "# Either choose a row number of sample one randomly\n",
        "row_id = 0\n",
        "# idx = np.random.randint(0, len(poles_df))\n",
        "# row_id = poles_df.index[idx]\n",
        "\n",
        "# Get the object features\n",
        "obj = poles_df.loc[row_id]\n",
        "obj_location = (obj.rd_x, obj.rd_y, obj.z)\n",
        "obj_top = (obj.tx, obj.ty, obj.tz)\n",
        "\n",
        "# Let's see the object in question\n",
        "poles_df.loc[[row_id]]"
      ],
      "outputs": [],
      "execution_count": null,
      "metadata": {
        "gather": {
          "logged": 1683796517203
        }
      },
      "id": "dc253aee-f662-4155-8dfe-a99969781cfc"
    },
    {
      "cell_type": "code",
      "source": [
        "# Print location (to be pasted in Google Maps)\n",
        "import geopandas as gpd\n",
        "import shapely.geometry as sg\n",
        "my_lon = float(poles_df.loc[[row_id]]['rd_x'])\n",
        "my_lat = float(poles_df.loc[[row_id]]['rd_y'])\n",
        "df_loc = gpd.GeoDataFrame({'geometry': [sg.Point(my_lon, my_lat)]}, crs='epsg:28992').to_crs(\"epsg:4326\") \n",
        "print(float(df_loc['geometry'].y), float(df_loc['geometry'].x))"
      ],
      "outputs": [],
      "execution_count": null,
      "metadata": {
        "gather": {
          "logged": 1683796518621
        }
      },
      "id": "b3a70086"
    },
    {
      "cell_type": "code",
      "source": [],
      "outputs": [],
      "execution_count": null,
      "metadata": {
        "jupyter": {
          "source_hidden": false,
          "outputs_hidden": false
        },
        "nteract": {
          "transient": {
            "deleting": false
          }
        }
      },
      "id": "7705a293-3348-4ea5-b020-874531812ac1"
    }
  ],
  "metadata": {
    "kernelspec": {
      "name": "python3",
      "language": "python",
      "display_name": "Python 3 (ipykernel)"
    },
    "language_info": {
      "name": "python",
      "version": "3.8.5",
      "mimetype": "text/x-python",
      "codemirror_mode": {
        "name": "ipython",
        "version": 3
      },
      "pygments_lexer": "ipython3",
      "nbconvert_exporter": "python",
      "file_extension": ".py"
    },
    "microsoft": {
      "ms_spell_check": {
        "ms_spell_check_language": "en"
      },
      "host": {
        "AzureML": {
          "notebookHasBeenCompleted": true
        }
      }
    },
    "kernel_info": {
      "name": "python3"
    },
    "nteract": {
      "version": "nteract-front-end@1.0.0"
    }
  },
  "nbformat": 4,
  "nbformat_minor": 5
}