{
  "cells": [
    {
      "cell_type": "code",
      "source": [
        "import signal\n",
        "\n",
        "class TimeOut:\n",
        "    \"\"\"force timing out for things that get stuck\"\"\"\n",
        "    def __init__(self, seconds=1, error_message='Timeout'):\n",
        "        self.seconds = seconds\n",
        "        self.error_message = error_message\n",
        "\n",
        "    def handle_timeout(self, signum, frame):\n",
        "        \"\"\"handle timeout\"\"\"\n",
        "        raise TimeoutError(self.error_message)\n",
        "\n",
        "    def __enter__(self):\n",
        "        signal.signal(signal.SIGALRM, self.handle_timeout)\n",
        "        signal.alarm(self.seconds)\n",
        "\n",
        "    def __exit__(self, type, value, traceback):\n",
        "        signal.alarm(0)"
      ],
      "outputs": [],
      "execution_count": 1,
      "metadata": {
        "gather": {
          "logged": 1690986864227
        },
        "jupyter": {
          "outputs_hidden": false,
          "source_hidden": false
        },
        "nteract": {
          "transient": {
            "deleting": false
          }
        }
      },
      "id": "99548816-a8ac-4414-b20d-39ee5e9cdbb7"
    },
    {
      "cell_type": "markdown",
      "source": [
        "# Extract pole-like street furniture\n",
        "\n",
        "In this notebook we demonstrate how we can extract pole-like objects form labeled point clouds.\n",
        "\n",
        "In this code we assume the point clouds have been labelled following the process in our [Urban PointCloud Processing](https://github.com/Amsterdam-AI-Team/Urban_PointCloud_Processing/tree/main/datasets) project. For more information on the specifics of the datasets used, see [the description there](https://github.com/Amsterdam-AI-Team/Urban_PointCloud_Processing/blob/main/datasets/README.md)."
      ],
      "metadata": {},
      "id": "00bb62b7-47e7-4b81-9179-bf2041107198"
    },
    {
      "cell_type": "code",
      "source": [
        "# Add project src to path.\r\n",
        "import set_path\r\n",
        "\r\n",
        "import numpy as np\r\n",
        "import pandas as pd\r\n",
        "import geopandas as gpd\r\n",
        "import os\r\n",
        "import pathlib\r\n",
        "import laspy\r\n",
        "import uuid\r\n",
        "from tqdm import tqdm\r\n",
        "\r\n",
        "#from upcp.labels import Labels \r\n",
        "from labels import Labels\r\n",
        "from upcp.utils import las_utils\r\n",
        "from upcp.utils import ahn_utils\r\n",
        "import upcp.utils.bgt_utils as bgt_utils\r\n",
        "#from upc_analysis import PoleExtractor\r\n",
        "from upc_analysis.pole_extractor import PoleExtractor, remove_tree_poles"
      ],
      "outputs": [
        {
          "output_type": "stream",
          "name": "stderr",
          "text": "QSocketNotifier: Can only be used with threads started with QThread\n"
        }
      ],
      "execution_count": 2,
      "metadata": {
        "jupyter": {
          "source_hidden": false,
          "outputs_hidden": false
        },
        "nteract": {
          "transient": {
            "deleting": false
          }
        },
        "gather": {
          "logged": 1690986875501
        }
      },
      "id": "b049fae9-eda9-44f9-925c-34032be9ca78"
    },
    {
      "cell_type": "code",
      "source": [
        "# Select location\n",
        "#my_location = '201001' # Oost\n",
        "#my_location = '200923' # Zuidoost\n",
        "#my_location = '200921' # Centrum\n",
        "#my_location = '200920' # Nieuw-West\n",
        "#my_location = '200918' # Noord\n",
        "#my_location = '200903' # Zuid\n",
        "#my_location = '200824' # West\n",
        "#my_location = '200823' # Haven\n",
        "#tree_area = 'West'  # 'Zuid', 'Oost', 'Zuidoost', 'Nieuw-West', 'Noord', 'West', 'Centrum', 'Westpoort'\n",
        "\n",
        "# We provide some example data for demonstration purposes.\n",
        "base_folder = '../datasets'\n",
        "dataset_folder = f'{base_folder}/pointcloud/'  # folder with point clouds\n",
        "pred_folder = f'{base_folder}/predictions/'  # folder with predictions as npz files\n",
        "prefix = 'filtered_'\n",
        "prefix_pred = 'pred_'\n",
        "files = list(pathlib.Path(dataset_folder).glob(f'{prefix}*.laz'))\n",
        "\n",
        "# Only predictions were made for files bigger than 10kb\n",
        "files = [f for f in files if os.path.getsize(f) > 10000]\n",
        "\n",
        "# Define the class we are interested in\n",
        "target_label = 60\n",
        "\n",
        "# Labels used for ground points ('Road' and 'Other ground')\n",
        "ground_labels = [1, 9]\n",
        "\n",
        "# AHN data reader for elevation data. This is optional: the data is only used when\n",
        "# the ground elevation cannot be determined from the labeled point cloud itself.\n",
        "ahn_data_folder = f'{base_folder}/ahn/'\n",
        "ahn_reader = ahn_utils.NPZReader(ahn_data_folder, caching=False)\n",
        "\n",
        "# TODO: keep or remove? If keep, update dataset\n",
        "# BGT data reader for building shapes. This is optional: the data is used to check\n",
        "# whether an extracted object is located within a building footprint. This might\n",
        "# indicate a false positive.\n",
        "# If an appropriate dataset is available, uncomment these lines to use it:\n",
        "# if os.path.exists(f'{base_folder}/bgt/bgt_buildings.csv'):\n",
        "#    bgt_building_file = f'{base_folder}/bgt/bgt_buildings.csv'\n",
        "#    bld_reader = bgt_utils.BGTPolyReader(bgt_building_file)\n",
        "#else:\n",
        "#    bld_reader = None\n",
        "#    print('no building file')\n",
        "bld_reader = None\n",
        "\n",
        "# TODO: keep or remove? if keep, create a sample of the data\n",
        "# Trees data for filtering. This is optional: the data is used to check\n",
        "# whether an extracted object is located very close to a tree. This might\n",
        "# indicate a false positive.\n",
        "#filename_trees = f'{base_folder}/trees/obj_vgo_boom_view.gpkg'\n",
        "\n",
        "# Settings for noise filtering\n",
        "EPS_N = 0.1\n",
        "MIN_SAMPLES_N = 50\n",
        "\n",
        "# Settings for clustering\n",
        "EPS = 0.1\n",
        "MIN_SAMPLES = 150"
      ],
      "outputs": [],
      "execution_count": 14,
      "metadata": {
        "gather": {
          "logged": 1690987084614
        }
      },
      "id": "1b06e529-9eaf-4c05-9e76-259c58691f16"
    },
    {
      "cell_type": "code",
      "source": [
        "output_file = f'{base_folder}/poles_extracted.csv'\n",
        "output_file_filter = f'{base_folder}/poles_extracted_filtered.csv'\n",
        "\n",
        "# Define and create out folder for images of found clusters\n",
        "img_out_folder = f'{base_folder}/images/'\n",
        "if not os.path.isdir(img_out_folder):\n",
        "    os.makedirs(img_out_folder + 'object_all_axes/')\n",
        "    os.makedirs(img_out_folder + 'object_per_axis/x/')\n",
        "    os.makedirs(img_out_folder + 'object_per_axis/y/')"
      ],
      "outputs": [],
      "execution_count": 12,
      "metadata": {
        "gather": {
          "logged": 1690987069891
        }
      },
      "id": "6da8cd30"
    },
    {
      "cell_type": "markdown",
      "source": [
        "---\n",
        "## Extracting pole-like objects\n",
        "\n",
        "This method works by clustering points of a given target class, and then using statistics and PCA analysis on each cluster to determine the exact pole.\n",
        "\n",
        "The result is a dataset with the following features for each extracted object:\n",
        "```txt\n",
        "rd_x, rd_y, z = X, Y, Z coordinates of the base of the pole\n",
        "tx, ty, tz    = X, Y, Z coordinates of the top of the pole\n",
        "height        = the height of the pole, in m\n",
        "angle         = the angle of the pole, in degrees w.r.t. vertical\n",
        "prob          = the average probability of the classification, if this data is available in the point cloud\n",
        "n_points      = the number of points of the object\n",
        "in_bld        = flag that indicates whether the object is located inside a building footprint\n",
        "debug         = debug code, see below\n",
        "tilecode      = tilecode in which the object was found\n",
        "```\n",
        "The debug code `A_B` indicates potential issues with either the ground elevation (A) or the pole extraction (B). A can be either 0 (no problems), 1 (no ground elevation found in the point cloud), or 2 (no ground elevation found in AHN). B can be either 0 (no problems), 3 (not enough data to determine the angle), or 4 (not enough data to determine the exact location)."
      ],
      "metadata": {},
      "id": "d8dafeab-3383-4154-94b8-fd1d04db6d1e"
    },
    {
      "cell_type": "code",
      "source": [
        "# Create PoleExtractor object\n",
        "pole_extractor = PoleExtractor(target_label, ground_labels,\n",
        "                                ahn_reader=ahn_reader, building_reader=bld_reader,\n",
        "                                eps_noise=EPS_N, min_samples_noise=MIN_SAMPLES_N,\n",
        "                                eps=EPS, min_samples=MIN_SAMPLES)   "
      ],
      "outputs": [],
      "execution_count": 15,
      "metadata": {
        "gather": {
          "logged": 1690987087077
        }
      },
      "id": "4ecbac85"
    },
    {
      "cell_type": "code",
      "source": [
        "# Loop over point cloud files and extract objects\n",
        "locations = []\n",
        "for file in tqdm(files):\n",
        "    try:\n",
        "        with TimeOut(240):\n",
        "            tilecode = las_utils.get_tilecode_from_filename(file.as_posix())\n",
        "            pc = laspy.read(file)\n",
        "            npz_file = np.load(pred_folder + prefix_pred + tilecode + '.npz')\n",
        "            labels = npz_file['label']\n",
        "            if 'probability' in pc.point_format.extra_dimension_names:\n",
        "                probabilities = pc.probability\n",
        "            else:\n",
        "                probabilities = np.zeros_like(labels)\n",
        "            if np.count_nonzero(labels == target_label) > 0:\n",
        "                points = np.vstack((pc.x, pc.y, pc.z)).T\n",
        "                colors = np.vstack((pc.green, pc.red, pc.blue)).T\n",
        "                tile_locations = pole_extractor.get_pole_locations(points, colors, labels, probabilities, tilecode)\n",
        "                locations.extend([(*x, tilecode) for x in tile_locations])\n",
        "    except:\n",
        "        continue\n",
        "\n",
        "HEADERS = ['rd_x', 'rd_y', 'z', 'tx', 'ty', 'tz', 'height', 'angle', 'm_r', 'm_g', 'm_b', 'radius','prob', 'n_points', 'in_bld', 'debug', 'tilecode']\n",
        "poles_df = pd.DataFrame(locations, columns=HEADERS)"
      ],
      "outputs": [
        {
          "output_type": "stream",
          "name": "stderr",
          "text": "100%|██████████| 2/2 [00:19<00:00,  9.97s/it]\n"
        }
      ],
      "execution_count": 16,
      "metadata": {
        "gather": {
          "logged": 1690987109927
        },
        "scrolled": true
      },
      "id": "71f9df0a-09e8-45f7-8f3b-f253c3296020"
    },
    {
      "cell_type": "code",
      "source": [
        "print(len(poles_df))\n",
        "poles_df.head(2)"
      ],
      "outputs": [
        {
          "output_type": "stream",
          "name": "stdout",
          "text": "30\n"
        },
        {
          "output_type": "execute_result",
          "execution_count": 17,
          "data": {
            "text/plain": "        rd_x       rd_y     z         tx         ty    tz  height  angle   \n0  119325.26  485103.33  0.38  119325.21  485103.26  7.59    7.21   0.71  \\\n1  119313.08  485104.12  0.50  119312.85  485104.20  7.78    7.29   1.94   \n\n        m_r       m_g       m_b  radius  prob  n_points  in_bld debug   \n0  14339.77  13887.24  15641.71   0.677   0.0      5794       0   0_0  \\\n1  24127.54  22926.55  25281.15   0.675   0.0      4764       0   0_0   \n\n    tilecode  \n0  2386_9702  \n1  2386_9702  ",
            "text/html": "<div>\n<style scoped>\n    .dataframe tbody tr th:only-of-type {\n        vertical-align: middle;\n    }\n\n    .dataframe tbody tr th {\n        vertical-align: top;\n    }\n\n    .dataframe thead th {\n        text-align: right;\n    }\n</style>\n<table border=\"1\" class=\"dataframe\">\n  <thead>\n    <tr style=\"text-align: right;\">\n      <th></th>\n      <th>rd_x</th>\n      <th>rd_y</th>\n      <th>z</th>\n      <th>tx</th>\n      <th>ty</th>\n      <th>tz</th>\n      <th>height</th>\n      <th>angle</th>\n      <th>m_r</th>\n      <th>m_g</th>\n      <th>m_b</th>\n      <th>radius</th>\n      <th>prob</th>\n      <th>n_points</th>\n      <th>in_bld</th>\n      <th>debug</th>\n      <th>tilecode</th>\n    </tr>\n  </thead>\n  <tbody>\n    <tr>\n      <th>0</th>\n      <td>119325.26</td>\n      <td>485103.33</td>\n      <td>0.38</td>\n      <td>119325.21</td>\n      <td>485103.26</td>\n      <td>7.59</td>\n      <td>7.21</td>\n      <td>0.71</td>\n      <td>14339.77</td>\n      <td>13887.24</td>\n      <td>15641.71</td>\n      <td>0.677</td>\n      <td>0.0</td>\n      <td>5794</td>\n      <td>0</td>\n      <td>0_0</td>\n      <td>2386_9702</td>\n    </tr>\n    <tr>\n      <th>1</th>\n      <td>119313.08</td>\n      <td>485104.12</td>\n      <td>0.50</td>\n      <td>119312.85</td>\n      <td>485104.20</td>\n      <td>7.78</td>\n      <td>7.29</td>\n      <td>1.94</td>\n      <td>24127.54</td>\n      <td>22926.55</td>\n      <td>25281.15</td>\n      <td>0.675</td>\n      <td>0.0</td>\n      <td>4764</td>\n      <td>0</td>\n      <td>0_0</td>\n      <td>2386_9702</td>\n    </tr>\n  </tbody>\n</table>\n</div>"
          },
          "metadata": {}
        }
      ],
      "execution_count": 17,
      "metadata": {
        "gather": {
          "logged": 1690987114567
        },
        "jupyter": {
          "outputs_hidden": false,
          "source_hidden": false
        },
        "nteract": {
          "transient": {
            "deleting": false
          }
        }
      },
      "id": "1c947b2b-05c9-474a-926c-ad3e2a69fa94"
    },
    {
      "attachments": {},
      "cell_type": "markdown",
      "source": [
        "#### Add unique identifier to each row"
      ],
      "metadata": {},
      "id": "a893a901"
    },
    {
      "cell_type": "code",
      "source": [
        "uuids = [uuid.uuid4() for _ in range(len(poles_df.index))]\n",
        "poles_df.insert(0, 'identifier', uuids)"
      ],
      "outputs": [],
      "execution_count": 18,
      "metadata": {
        "gather": {
          "logged": 1690987127383
        }
      },
      "id": "f3ca74b3"
    },
    {
      "cell_type": "markdown",
      "source": [
        "#### Store unfiltered data"
      ],
      "metadata": {
        "nteract": {
          "transient": {
            "deleting": false
          }
        }
      },
      "id": "353636df-7ade-4eba-8b43-a3a001a2cfec"
    },
    {
      "cell_type": "code",
      "source": [
        "poles_df.to_csv(output_file, index=False)"
      ],
      "outputs": [],
      "execution_count": 19,
      "metadata": {
        "gather": {
          "logged": 1690987128732
        },
        "jupyter": {
          "outputs_hidden": false,
          "source_hidden": false
        },
        "nteract": {
          "transient": {
            "deleting": false
          }
        }
      },
      "id": "13291b71-ad5e-4348-820a-b82a9e615763"
    },
    {
      "cell_type": "markdown",
      "source": [
        "### Filter out likely false positives"
      ],
      "metadata": {
        "nteract": {
          "transient": {
            "deleting": false
          }
        }
      },
      "id": "15730098-f0b0-4b49-b1f6-719509da554b"
    },
    {
      "cell_type": "markdown",
      "source": [
        "#### Remove too small or large poles"
      ],
      "metadata": {
        "nteract": {
          "transient": {
            "deleting": false
          }
        }
      },
      "id": "e4573231-b226-40b8-997f-cdce5c971eb2"
    },
    {
      "cell_type": "code",
      "source": [
        "poles_df = poles_df[poles_df['height'] > 1.8]\n",
        "poles_df = poles_df[poles_df['height'] < 16]\n",
        "len(poles_df)"
      ],
      "outputs": [
        {
          "output_type": "execute_result",
          "execution_count": 20,
          "data": {
            "text/plain": "22"
          },
          "metadata": {}
        }
      ],
      "execution_count": 20,
      "metadata": {
        "gather": {
          "logged": 1690987133611
        },
        "jupyter": {
          "outputs_hidden": false,
          "source_hidden": false
        },
        "nteract": {
          "transient": {
            "deleting": false
          }
        }
      },
      "id": "aa3c671f-76bf-4bd9-a0a3-2ddfc73e7cff"
    },
    {
      "cell_type": "markdown",
      "source": [
        "#### Remove 'poles' that are actually trees"
      ],
      "metadata": {
        "nteract": {
          "transient": {
            "deleting": false
          }
        }
      },
      "id": "2e3c1579-f529-4367-948d-07567c30d280"
    },
    {
      "cell_type": "code",
      "source": [
        "## TODO: keep or remove?\r\n",
        "#poles_df = remove_tree_poles(filename_trees, tree_area, poles_df)\r\n",
        "#len(poles_df)"
      ],
      "outputs": [],
      "execution_count": 23,
      "metadata": {
        "jupyter": {
          "source_hidden": false,
          "outputs_hidden": false
        },
        "nteract": {
          "transient": {
            "deleting": false
          }
        },
        "gather": {
          "logged": 1690987161532
        }
      },
      "id": "ee47b593-01f6-4533-8d2b-05d08204cf42"
    },
    {
      "cell_type": "markdown",
      "source": [
        "#### Store filtered data"
      ],
      "metadata": {
        "nteract": {
          "transient": {
            "deleting": false
          }
        }
      },
      "id": "a4f0e130-0e37-4408-b095-320eac357f66"
    },
    {
      "cell_type": "code",
      "source": [
        "# Save the data in CSV format.\n",
        "poles_df = poles_df.reset_index()\n",
        "poles_df.to_csv(output_file_filter, index=False)"
      ],
      "outputs": [],
      "execution_count": 24,
      "metadata": {
        "gather": {
          "logged": 1690987162973
        }
      },
      "id": "65b98623-56d8-4c9e-8268-69bbdf43429a"
    },
    {
      "cell_type": "code",
      "source": [],
      "outputs": [],
      "execution_count": null,
      "metadata": {
        "jupyter": {
          "source_hidden": false,
          "outputs_hidden": false
        },
        "nteract": {
          "transient": {
            "deleting": false
          }
        }
      },
      "id": "e7ed6753-8f32-4edf-bf85-5fd36cfb8ebc"
    }
  ],
  "metadata": {
    "kernel_info": {
      "name": "python3"
    },
    "kernelspec": {
      "name": "python3",
      "language": "python",
      "display_name": "Python 3 (ipykernel)"
    },
    "language_info": {
      "name": "python",
      "version": "3.8.5",
      "mimetype": "text/x-python",
      "codemirror_mode": {
        "name": "ipython",
        "version": 3
      },
      "pygments_lexer": "ipython3",
      "nbconvert_exporter": "python",
      "file_extension": ".py"
    },
    "microsoft": {
      "host": {
        "AzureML": {
          "notebookHasBeenCompleted": true
        }
      },
      "ms_spell_check": {
        "ms_spell_check_language": "en"
      }
    },
    "nteract": {
      "version": "nteract-front-end@1.0.0"
    }
  },
  "nbformat": 4,
  "nbformat_minor": 5
}