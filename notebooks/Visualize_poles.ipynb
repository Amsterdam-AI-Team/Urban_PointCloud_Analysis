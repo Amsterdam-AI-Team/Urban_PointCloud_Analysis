{
  "cells": [
    {
      "cell_type": "markdown",
      "source": [
        "---\r\n",
        "## Visualize extracted poles\r\n",
        "\r\n",
        "In order to verify the results and spot potential issues, we can visualize individual objects. The visualization renders the object from two directions (X and Y axis), along with a 3D projection."
      ],
      "metadata": {
        "nteract": {
          "transient": {
            "deleting": false
          }
        }
      }
    },
    {
      "cell_type": "code",
      "source": [
        "import set_path\r\n",
        "import pandas as pd\r\n",
        "import geopandas as gpd\r\n",
        "import numpy as np\r\n",
        "import shapely.geometry as sg\r\n",
        "import laspy\r\n",
        "from upc_analysis import visualization\r\n",
        "import multiprocessing"
      ],
      "outputs": [],
      "execution_count": null,
      "metadata": {
        "jupyter": {
          "source_hidden": false,
          "outputs_hidden": false
        },
        "nteract": {
          "transient": {
            "deleting": false
          }
        },
        "gather": {
          "logged": 1688718030732
        }
      }
    },
    {
      "cell_type": "code",
      "source": [
        "# Paths - point cloud data\r\n",
        "base_folder = '/home/azureuser/cloudfiles/code/blobfuse/pointcloud/UI'\r\n",
        "dataset_folder = f'{base_folder}/Point_Cloud_Data/Amsterdam/Amsterdam_Oost/Unprocessed/All/nl-amsv-201001-7415-laz/las_processor_bundled_out/'  # folder with point clouds\r\n",
        "pred_folder = f'{base_folder}/Preds/Amsterdam/Amsterdam_Oost/inference_oost_npz/'  # folder with predictions as npz files\r\n",
        "prefix = 'filtered_'\r\n",
        "prefix_pred = 'pred_'\r\n",
        "\r\n",
        "# Paths - extracted poles\r\n",
        "base_folder_output = '/home/azureuser/cloudfiles/code/blobfuse/ovl'\r\n",
        "output_file_filter = base_folder_output + \"/20230707-070119_poles_extracted_50_1_150_1.csv\"  # _filtered\r\n",
        "img_out_folder = f'{base_folder_output}/images/20230707-070119/'"
      ],
      "outputs": [],
      "execution_count": null,
      "metadata": {
        "jupyter": {
          "source_hidden": false,
          "outputs_hidden": false
        },
        "nteract": {
          "transient": {
            "deleting": false
          }
        },
        "gather": {
          "logged": 1688718032311
        }
      }
    },
    {
      "cell_type": "markdown",
      "source": [
        "#### Load poles data"
      ],
      "metadata": {
        "nteract": {
          "transient": {
            "deleting": false
          }
        }
      }
    },
    {
      "cell_type": "code",
      "source": [
        "poles_df = pd.read_csv(output_file_filter)  \r\n",
        "poles_df.sort_values('tilecode', inplace=True)\r\n",
        "poles_df.shape"
      ],
      "outputs": [],
      "execution_count": null,
      "metadata": {
        "jupyter": {
          "source_hidden": false,
          "outputs_hidden": false
        },
        "nteract": {
          "transient": {
            "deleting": false
          }
        },
        "gather": {
          "logged": 1688718034238
        }
      }
    },
    {
      "cell_type": "markdown",
      "source": [
        "#### Loop over all poles"
      ],
      "metadata": {
        "nteract": {
          "transient": {
            "deleting": false
          }
        }
      }
    },
    {
      "cell_type": "code",
      "source": [
        "# Save png of object x, y and 3d axis\r\n",
        "open_tile = []\r\n",
        "for idx, obj in poles_df.iterrows():\r\n",
        "    # Get object location and top (per pole)\r\n",
        "    print(idx)\r\n",
        "    obj_location = (obj.rd_x, obj.rd_y, obj.z)\r\n",
        "    obj_top = (obj.tx, obj.ty, obj.tz)\r\n",
        "\r\n",
        "    if obj.tilecode != open_tile:\r\n",
        "        # Get the point cloud data (per tile)\r\n",
        "        cloud = laspy.read(f'{dataset_folder}{prefix}{obj.tilecode}.laz')\r\n",
        "        points = np.vstack((cloud.x, cloud.y, cloud.z)).T\r\n",
        "        npz_file = np.load(pred_folder + prefix_pred + obj.tilecode + '.npz')\r\n",
        "        labels = npz_file['label']\r\n",
        "        colors = np.vstack((cloud.red, cloud.green, cloud.blue)).T / (2**16 - 1)\r\n",
        "        open_tile = obj.tilecode  # tile_code that is currently open\r\n",
        "\r\n",
        "    # Get a mask for the point cloud around the object's location (per pole)\r\n",
        "    obj_mask = visualization.get_mask_for_obj(points, obj_location, obj_top[2])\r\n",
        "    if sum(obj_mask) > 0:\r\n",
        "        # Save the object for all axes\r\n",
        "        write_path = img_out_folder + 'object_all_axes' \r\n",
        "        p = multiprocessing.Process(target=visualization.generate_png_all_axes, \r\n",
        "        args=(idx, points[obj_mask], labels[obj_mask], write_path, \r\n",
        "        colors[obj_mask], np.vstack((obj_location, obj_top)), False))\r\n",
        "        p.start()\r\n",
        "        # Save the objects per axis\r\n",
        "        write_path = img_out_folder + 'object_per_axis'\r\n",
        "        p = multiprocessing.Process(target=visualization.generate_png_single_axis, \r\n",
        "        args=(idx, points[obj_mask], labels[obj_mask], write_path, colors[obj_mask], 'x'))\r\n",
        "        p.start()\r\n",
        "        p = multiprocessing.Process(target=visualization.generate_png_single_axis, \r\n",
        "        args=(idx, points[obj_mask], labels[obj_mask], write_path, colors[obj_mask], 'y'))\r\n",
        "        p.start()"
      ],
      "outputs": [],
      "execution_count": null,
      "metadata": {
        "jupyter": {
          "source_hidden": false,
          "outputs_hidden": false
        },
        "nteract": {
          "transient": {
            "deleting": false
          }
        },
        "gather": {
          "logged": 1688718262814
        }
      }
    },
    {
      "cell_type": "markdown",
      "source": [
        "#### Look at one pole"
      ],
      "metadata": {
        "nteract": {
          "transient": {
            "deleting": false
          }
        }
      }
    },
    {
      "cell_type": "code",
      "source": [
        "# Either choose a row number of sample one randomly\r\n",
        "idx = 7\r\n",
        "# idx = np.random.randint(0, len(poles_df))\r\n",
        "# row_id = poles_df.index[idx]\r\n",
        "\r\n",
        "# Get the object features\r\n",
        "obj = poles_df.loc[idx]\r\n",
        "obj_location = (obj.rd_x, obj.rd_y, obj.z)\r\n",
        "obj_top = (obj.tx, obj.ty, obj.tz)\r\n",
        "\r\n",
        "# Let's see the object in question\r\n",
        "poles_df.loc[[idx]]"
      ],
      "outputs": [],
      "execution_count": null,
      "metadata": {
        "jupyter": {
          "source_hidden": false,
          "outputs_hidden": false
        },
        "nteract": {
          "transient": {
            "deleting": false
          }
        },
        "gather": {
          "logged": 1687357142599
        }
      }
    },
    {
      "cell_type": "code",
      "source": [
        "# Print location (to be pasted in Google Maps)\r\n",
        "my_lon = float(poles_df.loc[[idx]]['rd_x'])\r\n",
        "my_lat = float(poles_df.loc[[idx]]['rd_y'])\r\n",
        "df_loc = gpd.GeoDataFrame({'geometry': [sg.Point(my_lon, my_lat)]}, crs=\"epsg:28992\").to_crs(\"epsg:4326\") \r\n",
        "print(float(df_loc['geometry'].y), float(df_loc['geometry'].x))"
      ],
      "outputs": [],
      "execution_count": null,
      "metadata": {
        "jupyter": {
          "source_hidden": false,
          "outputs_hidden": false
        },
        "nteract": {
          "transient": {
            "deleting": false
          }
        },
        "gather": {
          "logged": 1687357142619
        }
      }
    },
    {
      "cell_type": "code",
      "source": [
        "# Save png of object x, y and 3d axis\r\n",
        "obj_location = (obj.rd_x, obj.rd_y, obj.z)\r\n",
        "obj_top = (obj.tx, obj.ty, obj.tz)\r\n",
        "cloud = laspy.read(f'{dataset_folder}{prefix}{obj.tilecode}.laz')\r\n",
        "points = np.vstack((cloud.x, cloud.y, cloud.z)).T\r\n",
        "npz_file = np.load(pred_folder + prefix_pred + obj.tilecode + '.npz')\r\n",
        "labels = npz_file['label']\r\n",
        "colors = np.vstack((cloud.red, cloud.green, cloud.blue)).T / (2**16 - 1)\r\n",
        "\r\n",
        "# Get a mask for the point cloud around the object's location\r\n",
        "obj_mask = visualization.get_mask_for_obj(points, obj_location, obj_top[2])\r\n",
        "if sum(obj_mask) > 0:\r\n",
        "    # Show and save the object\r\n",
        "    write_path = img_out_folder + 'object_all_axes' \r\n",
        "    visualization.generate_png_all_axes(idx, points[obj_mask], labels[obj_mask], \r\n",
        "                        write_path, colors=colors[obj_mask], estimate=np.vstack((obj_location, obj_top)),\r\n",
        "                        show_image=True)"
      ],
      "outputs": [],
      "execution_count": null,
      "metadata": {
        "jupyter": {
          "source_hidden": false,
          "outputs_hidden": false
        },
        "nteract": {
          "transient": {
            "deleting": false
          }
        },
        "gather": {
          "logged": 1687357142643
        }
      }
    }
  ],
  "metadata": {
    "kernelspec": {
      "name": "python3",
      "language": "python",
      "display_name": "Python 3 (ipykernel)"
    },
    "language_info": {
      "name": "python",
      "version": "3.8.5",
      "mimetype": "text/x-python",
      "codemirror_mode": {
        "name": "ipython",
        "version": 3
      },
      "pygments_lexer": "ipython3",
      "nbconvert_exporter": "python",
      "file_extension": ".py"
    },
    "microsoft": {
      "ms_spell_check": {
        "ms_spell_check_language": "en"
      },
      "host": {
        "AzureML": {
          "notebookHasBeenCompleted": true
        }
      }
    },
    "kernel_info": {
      "name": "python3"
    },
    "nteract": {
      "version": "nteract-front-end@1.0.0"
    }
  },
  "nbformat": 4,
  "nbformat_minor": 2
}