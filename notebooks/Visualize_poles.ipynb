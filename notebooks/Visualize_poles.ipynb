{
  "cells": [
    {
      "cell_type": "markdown",
      "source": [
        "---\n",
        "## Visualize extracted poles\n",
        "\n",
        "In order to verify the results and spot potential issues, we can visualize individual objects. The visualization renders the object from two directions (X and Y axis), along with a 3D projection."
      ],
      "metadata": {
        "nteract": {
          "transient": {
            "deleting": false
          }
        }
      }
    },
    {
      "cell_type": "code",
      "source": [
        "import set_path\n",
        "import pandas as pd\n",
        "import geopandas as gpd\n",
        "import numpy as np\n",
        "import shapely.geometry as sg\n",
        "import laspy\n",
        "from upc_analysis import visualization\n",
        "import multiprocessing"
      ],
      "outputs": [],
      "execution_count": null,
      "metadata": {
        "gather": {
          "logged": 1688742637026
        },
        "jupyter": {
          "outputs_hidden": false,
          "source_hidden": false
        },
        "nteract": {
          "transient": {
            "deleting": false
          }
        }
      }
    },
    {
      "cell_type": "code",
      "source": [
        "# Paths - point cloud data\n",
        "base_folder = '/home/azureuser/cloudfiles/code/blobfuse/ovl'\n",
        "dataset_folder = f'{base_folder}/pointcloud/Unlabeled/Amsterdam/nl-amsd-200923-7415-laz/las_processor_bundled_out/'  # folder with point clouds\n",
        "pred_folder = f'{base_folder}/predictions/nl-amsd-200923-7415-laz/'  # folder with predictions as npz files\n",
        "prefix = 'filtered_'\n",
        "prefix_pred = 'pred_'\n",
        "\n",
        "# Paths - extracted poles\n",
        "base_folder_output = '/home/azureuser/cloudfiles/code/blobfuse/ovl'\n",
        "output_file_filter = base_folder + \"/20230707-150648_poles_extracted_zuidoost_filtered.csv\"\n",
        "img_out_folder = f'{base_folder}/images/20230707-150648/'"
      ],
      "outputs": [],
      "execution_count": null,
      "metadata": {
        "gather": {
          "logged": 1688742676160
        },
        "jupyter": {
          "outputs_hidden": false,
          "source_hidden": false
        },
        "nteract": {
          "transient": {
            "deleting": false
          }
        }
      }
    },
    {
      "cell_type": "markdown",
      "source": [
        "#### Load poles data"
      ],
      "metadata": {
        "nteract": {
          "transient": {
            "deleting": false
          }
        }
      }
    },
    {
      "cell_type": "code",
      "source": [
        "poles_df = pd.read_csv(output_file_filter)\n",
        "poles_df.sort_values('tilecode', inplace=True)\n",
        "poles_df.shape"
      ],
      "outputs": [],
      "execution_count": null,
      "metadata": {
        "gather": {
          "logged": 1688742677603
        },
        "jupyter": {
          "outputs_hidden": false,
          "source_hidden": false
        },
        "nteract": {
          "transient": {
            "deleting": false
          }
        }
      }
    },
    {
      "cell_type": "markdown",
      "source": [
        "#### Loop over all poles"
      ],
      "metadata": {
        "nteract": {
          "transient": {
            "deleting": false
          }
        }
      }
    },
    {
      "cell_type": "code",
      "source": [
        "# Save png of object x, y and 3d axis\n",
        "open_tile = []\n",
        "for _, obj in poles_df.iterrows():\n",
        "    # Get object location and top (per pole)\n",
        "    identifier = obj.identifier\n",
        "    obj_location = (obj.rd_x, obj.rd_y, obj.z)\n",
        "    obj_top = (obj.tx, obj.ty, obj.tz)\n",
        "\n",
        "    if obj.tilecode != open_tile:\n",
        "        # Get the point cloud data (per tile)\n",
        "        cloud = laspy.read(f'{dataset_folder}{prefix}{obj.tilecode}.laz')\n",
        "        points = np.vstack((cloud.x, cloud.y, cloud.z)).T\n",
        "        npz_file = np.load(pred_folder + prefix_pred + obj.tilecode + '.npz')\n",
        "        labels = npz_file['label']\n",
        "        colors = np.vstack((cloud.red, cloud.green, cloud.blue)).T / (2**16 - 1)\n",
        "        open_tile = obj.tilecode  # tile_code that is currently open\n",
        "\n",
        "    # Get a mask for the point cloud around the object's location (per pole)\n",
        "    obj_mask = visualization.get_mask_for_obj(points, obj_location, obj_top[2])\n",
        "    if sum(obj_mask) > 0:\n",
        "        # Save the object for all axes\n",
        "        write_path = img_out_folder + 'object_all_axes' \n",
        "        p = multiprocessing.Process(target=visualization.generate_png_all_axes, \n",
        "        args=(identifier, points[obj_mask], labels[obj_mask], write_path, \n",
        "        colors[obj_mask], np.vstack((obj_location, obj_top)), False))\n",
        "        p.start()                  \n",
        "        # Save the objects per axis\n",
        "        write_path = img_out_folder + 'object_per_axis'\n",
        "        p = multiprocessing.Process(target=visualization.generate_png_single_axis, \n",
        "        args=(identifier, points[obj_mask], labels[obj_mask], write_path, colors[obj_mask], 'x'))\n",
        "        p.start() \n",
        "        p = multiprocessing.Process(target=visualization.generate_png_single_axis, \n",
        "        args=(identifier, points[obj_mask], labels[obj_mask], write_path, colors[obj_mask], 'y'))\n",
        "        p.start() "
      ],
      "outputs": [],
      "execution_count": null,
      "metadata": {
        "gather": {
          "logged": 1688742778487
        },
        "jupyter": {
          "outputs_hidden": false,
          "source_hidden": false
        },
        "nteract": {
          "transient": {
            "deleting": false
          }
        }
      }
    },
    {
      "cell_type": "markdown",
      "source": [
        "#### Look at one pole"
      ],
      "metadata": {
        "nteract": {
          "transient": {
            "deleting": false
          }
        }
      }
    },
    {
      "cell_type": "code",
      "source": [
        "# Either choose a row number of sample one randomly\n",
        "idx = 7\n",
        "# idx = np.random.randint(0, len(poles_df))\n",
        "# row_id = poles_df.index[idx]\n",
        "\n",
        "# Get the object features\n",
        "obj = poles_df.loc[idx]\n",
        "obj_location = (obj.rd_x, obj.rd_y, obj.z)\n",
        "obj_top = (obj.tx, obj.ty, obj.tz)\n",
        "\n",
        "# Let's see the object in question\n",
        "poles_df.loc[[idx]]"
      ],
      "outputs": [],
      "execution_count": null,
      "metadata": {
        "gather": {
          "logged": 1687357142599
        },
        "jupyter": {
          "outputs_hidden": false,
          "source_hidden": false
        },
        "nteract": {
          "transient": {
            "deleting": false
          }
        }
      }
    },
    {
      "cell_type": "code",
      "source": [
        "# Print location (to be pasted in Google Maps)\n",
        "my_lon = float(poles_df.loc[[idx]]['rd_x'])\n",
        "my_lat = float(poles_df.loc[[idx]]['rd_y'])\n",
        "df_loc = gpd.GeoDataFrame({'geometry': [sg.Point(my_lon, my_lat)]}, crs=\"epsg:28992\").to_crs(\"epsg:4326\") \n",
        "print(float(df_loc['geometry'].y), float(df_loc['geometry'].x))"
      ],
      "outputs": [],
      "execution_count": null,
      "metadata": {
        "gather": {
          "logged": 1687357142619
        },
        "jupyter": {
          "outputs_hidden": false,
          "source_hidden": false
        },
        "nteract": {
          "transient": {
            "deleting": false
          }
        }
      }
    },
    {
      "cell_type": "code",
      "source": [
        "# Save png of object x, y and 3d axis\n",
        "obj_location = (obj.rd_x, obj.rd_y, obj.z)\n",
        "obj_top = (obj.tx, obj.ty, obj.tz)\n",
        "cloud = laspy.read(f'{dataset_folder}{prefix}{obj.tilecode}.laz')\n",
        "points = np.vstack((cloud.x, cloud.y, cloud.z)).T\n",
        "npz_file = np.load(pred_folder + prefix_pred + obj.tilecode + '.npz')\n",
        "labels = npz_file['label']\n",
        "colors = np.vstack((cloud.red, cloud.green, cloud.blue)).T / (2**16 - 1)\n",
        "\n",
        "# Get a mask for the point cloud around the object's location\n",
        "obj_mask = visualization.get_mask_for_obj(points, obj_location, obj_top[2])\n",
        "if sum(obj_mask) > 0:\n",
        "    # Show and save the object\n",
        "    write_path = img_out_folder + 'object_all_axes' \n",
        "    visualization.generate_png_all_axes(idx, points[obj_mask], labels[obj_mask], \n",
        "                        write_path, colors=colors[obj_mask], estimate=np.vstack((obj_location, obj_top)),\n",
        "                        show_image=True)"
      ],
      "outputs": [],
      "execution_count": null,
      "metadata": {
        "gather": {
          "logged": 1687357142643
        },
        "jupyter": {
          "outputs_hidden": false,
          "source_hidden": false
        },
        "nteract": {
          "transient": {
            "deleting": false
          }
        }
      }
    }
  ],
  "metadata": {
    "kernel_info": {
      "name": "python3"
    },
    "kernelspec": {
      "name": "python3",
      "language": "python",
      "display_name": "Python 3 (ipykernel)"
    },
    "language_info": {
      "name": "python",
      "version": "3.8.5",
      "mimetype": "text/x-python",
      "codemirror_mode": {
        "name": "ipython",
        "version": 3
      },
      "pygments_lexer": "ipython3",
      "nbconvert_exporter": "python",
      "file_extension": ".py"
    },
    "microsoft": {
      "host": {
        "AzureML": {
          "notebookHasBeenCompleted": true
        }
      },
      "ms_spell_check": {
        "ms_spell_check_language": "en"
      }
    },
    "nteract": {
      "version": "nteract-front-end@1.0.0"
    }
  },
  "nbformat": 4,
  "nbformat_minor": 2
}