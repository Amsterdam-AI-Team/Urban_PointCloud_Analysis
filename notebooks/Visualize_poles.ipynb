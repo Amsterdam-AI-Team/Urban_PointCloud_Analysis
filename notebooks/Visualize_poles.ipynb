{
  "cells": [
    {
      "cell_type": "markdown",
      "source": [
        "# Visualize extracted poles\n",
        "\n",
        "In order to verify the results and spot potential issues, we can visualize individual objects. We take the output of `Extract_poles.ipynb` as input. The visualization renders the object from two directions (X and Y axis), along with a 3D projection."
      ],
      "metadata": {
        "nteract": {
          "transient": {
            "deleting": false
          }
        }
      }
    },
    {
      "cell_type": "code",
      "source": [
        "import os\n",
        "import pandas as pd\n",
        "import geopandas as gpd\n",
        "import numpy as np\n",
        "import laspy\n",
        "\n",
        "import set_path  # add project src to path\n",
        "from upc_analysis import visualization\n",
        "\n",
        "import config as cf  # use config or config_azure"
      ],
      "outputs": [],
      "execution_count": null,
      "metadata": {
        "gather": {
          "logged": 1691588703213
        },
        "jupyter": {
          "outputs_hidden": false,
          "source_hidden": false
        },
        "nteract": {
          "transient": {
            "deleting": false
          }
        }
      }
    },
    {
      "cell_type": "markdown",
      "source": [
        "### Load poles data"
      ],
      "metadata": {
        "nteract": {
          "transient": {
            "deleting": false
          }
        }
      }
    },
    {
      "cell_type": "code",
      "source": [
        "# Get extracted poles (after filtering)\n",
        "poles_df = pd.read_csv(cf.output_file_filter)\n",
        "poles_df.sort_values('tilecode', inplace=True)\n",
        "print('# poles: ', len(poles_df))"
      ],
      "outputs": [],
      "execution_count": null,
      "metadata": {
        "gather": {
          "logged": 1691588704543
        },
        "jupyter": {
          "outputs_hidden": false,
          "source_hidden": false
        },
        "nteract": {
          "transient": {
            "deleting": false
          }
        }
      }
    },
    {
      "cell_type": "markdown",
      "source": [
        "### Loop over all poles"
      ],
      "metadata": {
        "nteract": {
          "transient": {
            "deleting": false
          }
        }
      }
    },
    {
      "cell_type": "code",
      "source": [
        "# Define and create out folder for images\n",
        "if not os.path.isdir(cf.img_out_folder):\n",
        "    os.makedirs(cf.img_out_folder + 'object_all_axes/')\n",
        "    os.makedirs(cf.img_out_folder + 'object_per_axis/x/')\n",
        "    os.makedirs(cf.img_out_folder + 'object_per_axis/y/')"
      ],
      "outputs": [],
      "execution_count": null,
      "metadata": {
        "jupyter": {
          "source_hidden": false,
          "outputs_hidden": false
        },
        "nteract": {
          "transient": {
            "deleting": false
          }
        },
        "gather": {
          "logged": 1691588706041
        }
      }
    },
    {
      "cell_type": "code",
      "source": [
        "# Create 3 images for each of the extracted poles\n",
        "visualization.create_images_for_poles(poles_df, cf.dataset_folder, cf.pred_folder,\n",
        "                                      cf.img_out_folder, cf.prefix, cf.prefix_pred)"
      ],
      "outputs": [],
      "execution_count": null,
      "metadata": {
        "jupyter": {
          "source_hidden": false,
          "outputs_hidden": false
        },
        "nteract": {
          "transient": {
            "deleting": false
          }
        },
        "gather": {
          "logged": 1691588742186
        }
      }
    },
    {
      "cell_type": "markdown",
      "source": [
        "### Check locations"
      ],
      "metadata": {
        "nteract": {
          "transient": {
            "deleting": false
          }
        }
      }
    },
    {
      "cell_type": "code",
      "source": [
        "gdf = gpd.GeoDataFrame(poles_df, geometry=gpd.points_from_xy(poles_df['rd_x'], poles_df['rd_y']))\n",
        "gdf.plot()"
      ],
      "outputs": [],
      "execution_count": null,
      "metadata": {
        "jupyter": {
          "source_hidden": false,
          "outputs_hidden": false
        },
        "nteract": {
          "transient": {
            "deleting": false
          }
        },
        "gather": {
          "logged": 1691588750723
        }
      }
    }
  ],
  "metadata": {
    "kernel_info": {
      "name": "python3"
    },
    "kernelspec": {
      "name": "python3",
      "language": "python",
      "display_name": "Python 3 (ipykernel)"
    },
    "language_info": {
      "name": "python",
      "version": "3.8.5",
      "mimetype": "text/x-python",
      "codemirror_mode": {
        "name": "ipython",
        "version": 3
      },
      "pygments_lexer": "ipython3",
      "nbconvert_exporter": "python",
      "file_extension": ".py"
    },
    "microsoft": {
      "host": {
        "AzureML": {
          "notebookHasBeenCompleted": true
        }
      },
      "ms_spell_check": {
        "ms_spell_check_language": "en"
      }
    },
    "nteract": {
      "version": "nteract-front-end@1.0.0"
    }
  },
  "nbformat": 4,
  "nbformat_minor": 2
}