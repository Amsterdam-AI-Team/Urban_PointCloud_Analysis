{
  "cells": [
    {
      "cell_type": "markdown",
      "source": [
        "---\n",
        "## Visualize extracted poles\n",
        "\n",
        "In order to verify the results and spot potential issues, we can visualize individual objects. The visualization renders the object from two directions (X and Y axis), along with a 3D projection."
      ],
      "metadata": {
        "nteract": {
          "transient": {
            "deleting": false
          }
        }
      }
    },
    {
      "cell_type": "code",
      "source": [
        "import set_path\n",
        "import pandas as pd\n",
        "import geopandas as gpd\n",
        "import numpy as np\n",
        "import shapely.geometry as sg\n",
        "from shapely import wkt\n",
        "import laspy\n",
        "from upc_analysis import visualization\n",
        "import multiprocessing"
      ],
      "outputs": [],
      "execution_count": null,
      "metadata": {
        "gather": {
          "logged": 1690988022845
        },
        "jupyter": {
          "outputs_hidden": false,
          "source_hidden": false
        },
        "nteract": {
          "transient": {
            "deleting": false
          }
        }
      }
    },
    {
      "cell_type": "code",
      "source": [
        "# Paths - point cloud data\n",
        "base_folder = '../datasets'\n",
        "dataset_folder = f'{base_folder}/pointcloud/'  # folder with point clouds\n",
        "pred_folder = f'{base_folder}/predictions/'  # folder with predictions as npz files\n",
        "prefix = 'filtered_'\n",
        "prefix_pred = 'pred_'\n",
        "\n",
        "# Paths - extracted poles\n",
        "output_file_filter = f'{base_folder}/poles_extracted_filtered.csv'\n",
        "img_out_folder = f'{base_folder}/images/'"
      ],
      "outputs": [],
      "execution_count": null,
      "metadata": {
        "gather": {
          "logged": 1690988023923
        },
        "jupyter": {
          "outputs_hidden": false,
          "source_hidden": false
        },
        "nteract": {
          "transient": {
            "deleting": false
          }
        }
      }
    },
    {
      "cell_type": "markdown",
      "source": [
        "#### Load poles data"
      ],
      "metadata": {
        "nteract": {
          "transient": {
            "deleting": false
          }
        }
      }
    },
    {
      "cell_type": "code",
      "source": [
        "poles_df = pd.read_csv(output_file_filter)\n",
        "poles_df.sort_values('tilecode', inplace=True)\n",
        "poles_df.shape"
      ],
      "outputs": [],
      "execution_count": null,
      "metadata": {
        "gather": {
          "logged": 1690988027690
        },
        "jupyter": {
          "outputs_hidden": false,
          "source_hidden": false
        },
        "nteract": {
          "transient": {
            "deleting": false
          }
        }
      }
    },
    {
      "cell_type": "markdown",
      "source": [
        "#### Loop over all poles"
      ],
      "metadata": {
        "nteract": {
          "transient": {
            "deleting": false
          }
        }
      }
    },
    {
      "cell_type": "code",
      "source": [
        "visualization.create_images_for_poles(poles_df, dataset_folder, pred_folder, img_out_folder, prefix, prefix_pred)"
      ],
      "outputs": [],
      "execution_count": null,
      "metadata": {
        "jupyter": {
          "source_hidden": false,
          "outputs_hidden": false
        },
        "nteract": {
          "transient": {
            "deleting": false
          }
        },
        "gather": {
          "logged": 1690988068044
        }
      }
    },
    {
      "cell_type": "markdown",
      "source": [
        "#### Look at one pole"
      ],
      "metadata": {
        "nteract": {
          "transient": {
            "deleting": false
          }
        }
      }
    },
    {
      "cell_type": "code",
      "source": [
        "# Either choose a row number of sample one randomly\n",
        "idx = 2\n",
        "# idx = np.random.randint(0, len(poles_df))\n",
        "# row_id = poles_df.index[idx]\n",
        "\n",
        "# Get the object features\n",
        "obj = poles_df.loc[idx]\n",
        "obj_location = (obj.rd_x, obj.rd_y, obj.z)\n",
        "obj_top = (obj.tx, obj.ty, obj.tz)\n",
        "\n",
        "# Let's see the object in question\n",
        "poles_df.loc[[idx]]"
      ],
      "outputs": [],
      "execution_count": null,
      "metadata": {
        "gather": {
          "logged": 1690988121009
        },
        "jupyter": {
          "outputs_hidden": false,
          "source_hidden": false
        },
        "nteract": {
          "transient": {
            "deleting": false
          }
        }
      }
    },
    {
      "cell_type": "code",
      "source": [
        "# Save png of object x, y and 3d axis\n",
        "obj_location = (obj.rd_x, obj.rd_y, obj.z)\n",
        "obj_top = (obj.tx, obj.ty, obj.tz)\n",
        "cloud = laspy.read(f'{dataset_folder}{prefix}{obj.tilecode}.laz')\n",
        "points = np.vstack((cloud.x, cloud.y, cloud.z)).T\n",
        "npz_file = np.load(pred_folder + prefix_pred + obj.tilecode + '.npz')\n",
        "labels = npz_file['label']\n",
        "colors = np.vstack((cloud.red, cloud.green, cloud.blue)).T / (2**16 - 1)\n",
        "\n",
        "# Get a mask for the point cloud around the object's location\n",
        "obj_mask = visualization.get_mask_for_obj(points, obj_location, obj_top[2])\n",
        "if sum(obj_mask) > 0:\n",
        "    # Show and save the object\n",
        "    write_path = img_out_folder + 'object_all_axes' \n",
        "    visualization.generate_png_all_axes(idx, points[obj_mask], labels[obj_mask], \n",
        "                        write_path, colors=colors[obj_mask], estimate=np.vstack((obj_location, obj_top)),\n",
        "                        show_image=True)"
      ],
      "outputs": [],
      "execution_count": null,
      "metadata": {
        "gather": {
          "logged": 1690988129883
        },
        "jupyter": {
          "outputs_hidden": false,
          "source_hidden": false
        },
        "nteract": {
          "transient": {
            "deleting": false
          }
        }
      }
    },
    {
      "cell_type": "code",
      "source": [
        "# Print location\n",
        "my_lon = float(poles_df.loc[[idx]]['rd_x'].iloc[0])\n",
        "my_lat = float(poles_df.loc[[idx]]['rd_y'].iloc[0])\n",
        "df_loc = gpd.GeoDataFrame({'geometry': [sg.Point(my_lon, my_lat)]}, crs=\"epsg:28992\").to_crs(\"epsg:4326\") \n",
        "print(float(df_loc['geometry'].y.iloc[0]), float(df_loc['geometry'].x.iloc[0]))"
      ],
      "outputs": [],
      "execution_count": null,
      "metadata": {
        "gather": {
          "logged": 1690988136935
        },
        "jupyter": {
          "outputs_hidden": false,
          "source_hidden": false
        },
        "nteract": {
          "transient": {
            "deleting": false
          }
        }
      }
    },
    {
      "cell_type": "markdown",
      "source": [
        "### Check locations all poles"
      ],
      "metadata": {
        "nteract": {
          "transient": {
            "deleting": false
          }
        }
      }
    },
    {
      "cell_type": "code",
      "source": [
        "gdf = gpd.GeoDataFrame(poles_df, geometry=gpd.points_from_xy(poles_df['rd_x'], poles_df['rd_y']))"
      ],
      "outputs": [],
      "execution_count": null,
      "metadata": {
        "jupyter": {
          "source_hidden": false,
          "outputs_hidden": false
        },
        "nteract": {
          "transient": {
            "deleting": false
          }
        },
        "gather": {
          "logged": 1690988289070
        }
      }
    },
    {
      "cell_type": "code",
      "source": [
        "gdf.plot()"
      ],
      "outputs": [],
      "execution_count": null,
      "metadata": {
        "jupyter": {
          "source_hidden": false,
          "outputs_hidden": false
        },
        "nteract": {
          "transient": {
            "deleting": false
          }
        },
        "gather": {
          "logged": 1690988291081
        }
      }
    }
  ],
  "metadata": {
    "kernel_info": {
      "name": "python3"
    },
    "kernelspec": {
      "name": "python3",
      "language": "python",
      "display_name": "Python 3 (ipykernel)"
    },
    "language_info": {
      "name": "python",
      "version": "3.8.5",
      "mimetype": "text/x-python",
      "codemirror_mode": {
        "name": "ipython",
        "version": 3
      },
      "pygments_lexer": "ipython3",
      "nbconvert_exporter": "python",
      "file_extension": ".py"
    },
    "microsoft": {
      "host": {
        "AzureML": {
          "notebookHasBeenCompleted": true
        }
      },
      "ms_spell_check": {
        "ms_spell_check_language": "en"
      }
    },
    "nteract": {
      "version": "nteract-front-end@1.0.0"
    }
  },
  "nbformat": 4,
  "nbformat_minor": 2
}