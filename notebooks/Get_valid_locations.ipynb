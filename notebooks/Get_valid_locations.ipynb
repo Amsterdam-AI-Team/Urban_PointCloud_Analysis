{
 "cells": [
  {
   "cell_type": "code",
   "execution_count": null,
   "id": "3df3f9b1",
   "metadata": {},
   "outputs": [],
   "source": [
    "import numpy as np\n",
    "import pandas as pd\n",
    "import geopandas as gpd\n",
    "\n",
    "import rasterio"
   ]
  },
  {
   "cell_type": "code",
   "execution_count": null,
   "id": "bf33f77e",
   "metadata": {},
   "outputs": [],
   "source": [
    "dataset_folder = '../datasets/valid_locations/' \n",
    "density_file = dataset_folder + 'nl-amsv-201001-7415-laz_m2dens.tif'\n",
    "lights_file = dataset_folder + 'export_115530.csv'\n",
    "lights_out_file = dataset_folder + 'export_115530_valid.csv'"
   ]
  },
  {
   "cell_type": "markdown",
   "id": "a5a61c45",
   "metadata": {},
   "source": [
    "### Get lights data"
   ]
  },
  {
   "cell_type": "code",
   "execution_count": null,
   "id": "ed433ba0",
   "metadata": {},
   "outputs": [],
   "source": [
    "df = pd.read_csv(lights_file, skiprows=1, sep=';', encoding = 'unicode_escape')"
   ]
  },
  {
   "cell_type": "code",
   "execution_count": null,
   "id": "e5ecef56",
   "metadata": {},
   "outputs": [],
   "source": [
    "df.head(2)"
   ]
  },
  {
   "cell_type": "code",
   "execution_count": null,
   "id": "bc2caa3c",
   "metadata": {},
   "outputs": [],
   "source": [
    "df['X'] = df['X'].str.replace(',', '.', regex=False)\n",
    "df['Y'] = df['Y'].str.replace(',', '.', regex=False)"
   ]
  },
  {
   "cell_type": "code",
   "execution_count": null,
   "id": "19d32541",
   "metadata": {},
   "outputs": [],
   "source": [
    "gdf = gpd.GeoDataFrame(df, geometry = gpd.points_from_xy(df['X'], df['Y']))"
   ]
  },
  {
   "cell_type": "code",
   "execution_count": null,
   "id": "cf39fd3f",
   "metadata": {},
   "outputs": [],
   "source": [
    "gdf.shape"
   ]
  },
  {
   "cell_type": "code",
   "execution_count": null,
   "id": "72392525",
   "metadata": {},
   "outputs": [],
   "source": [
    "gdf.tail(2)"
   ]
  },
  {
   "cell_type": "markdown",
   "id": "dc0a912f",
   "metadata": {},
   "source": [
    "### Get density data"
   ]
  },
  {
   "cell_type": "code",
   "execution_count": null,
   "id": "278eade6",
   "metadata": {},
   "outputs": [],
   "source": [
    "img = rasterio.open(density_file) "
   ]
  },
  {
   "cell_type": "code",
   "execution_count": null,
   "id": "7e02ef71",
   "metadata": {},
   "outputs": [],
   "source": [
    "array = img.read()\n",
    "n_bands = array.shape[0]\n",
    "n_bands"
   ]
  },
  {
   "cell_type": "code",
   "execution_count": null,
   "id": "1232b2e9",
   "metadata": {},
   "outputs": [],
   "source": [
    "# Create two 2d arrays of the pixel X and Y coordinates\n",
    "height = img.shape[0]\n",
    "width = img.shape[1]\n",
    "cols, rows = np.meshgrid(np.arange(width), np.arange(height))\n",
    "xs, ys = rasterio.transform.xy(img.transform, rows, cols)\n",
    "xcoords = np.array(xs)\n",
    "ycoords = np.array(ys)\n",
    "array = np.concatenate((array, xcoords[None,:,:], ycoords[None,:,:]))"
   ]
  },
  {
   "cell_type": "code",
   "execution_count": null,
   "id": "e12aff9e",
   "metadata": {},
   "outputs": [],
   "source": [
    "df_density = pd.DataFrame(array.reshape([n_bands+2,-1]).T, columns=[f\"band_{i+1}\" for i in range(n_bands)]+['x','y'])"
   ]
  },
  {
   "cell_type": "code",
   "execution_count": null,
   "id": "8a11c27d",
   "metadata": {},
   "outputs": [],
   "source": [
    "df_density.head(2)"
   ]
  },
  {
   "cell_type": "code",
   "execution_count": null,
   "id": "24c0b457",
   "metadata": {},
   "outputs": [],
   "source": [
    "df_density['band_1'].mean()"
   ]
  },
  {
   "cell_type": "code",
   "execution_count": null,
   "id": "49bd0b4c",
   "metadata": {},
   "outputs": [],
   "source": [
    "df_density.shape"
   ]
  },
  {
   "cell_type": "code",
   "execution_count": null,
   "id": "2c7afc23",
   "metadata": {},
   "outputs": [],
   "source": [
    "gdf_density = gpd.GeoDataFrame(df_density, geometry=gpd.points_from_xy(df_density['x'], df_density['y']))"
   ]
  },
  {
   "cell_type": "code",
   "execution_count": null,
   "id": "ed62def9",
   "metadata": {},
   "outputs": [],
   "source": [
    "del df_density"
   ]
  },
  {
   "cell_type": "markdown",
   "id": "6721b3e2",
   "metadata": {},
   "source": [
    "### Add threshold for density"
   ]
  },
  {
   "cell_type": "code",
   "execution_count": null,
   "id": "4b67d33d",
   "metadata": {},
   "outputs": [],
   "source": [
    "density_threshold = 500"
   ]
  },
  {
   "cell_type": "code",
   "execution_count": null,
   "id": "41a6234f",
   "metadata": {},
   "outputs": [],
   "source": [
    "gdf_density_selection = gdf_density[gdf_density['band_1'] > density_threshold]"
   ]
  },
  {
   "cell_type": "code",
   "execution_count": null,
   "id": "2fc9fa37",
   "metadata": {},
   "outputs": [],
   "source": [
    "gdf_density_selection.shape"
   ]
  },
  {
   "cell_type": "code",
   "execution_count": null,
   "id": "832a1973",
   "metadata": {
    "scrolled": true
   },
   "outputs": [],
   "source": [
    "gdf_density.shape"
   ]
  },
  {
   "cell_type": "code",
   "execution_count": null,
   "id": "a20c93c7",
   "metadata": {},
   "outputs": [],
   "source": [
    "del gdf_density"
   ]
  },
  {
   "cell_type": "markdown",
   "id": "ad313622",
   "metadata": {},
   "source": [
    "### Create one polygon"
   ]
  },
  {
   "cell_type": "code",
   "execution_count": null,
   "id": "258db098",
   "metadata": {},
   "outputs": [],
   "source": [
    "# Go from points to squares\n",
    "gdf_density_selection['buffer'] = gdf_density_selection['geometry'].buffer(0.5, cap_style=3)"
   ]
  },
  {
   "cell_type": "code",
   "execution_count": null,
   "id": "63490749",
   "metadata": {},
   "outputs": [],
   "source": [
    "# Dissolve\n",
    "gdf_density_selection_dis = gpd.GeoDataFrame(geometry = gpd.GeoSeries(gdf_density_selection[\"buffer\"].unary_union))"
   ]
  },
  {
   "cell_type": "code",
   "execution_count": null,
   "id": "95e99cf9",
   "metadata": {},
   "outputs": [],
   "source": [
    "gdf_density_selection_dis"
   ]
  },
  {
   "cell_type": "code",
   "execution_count": null,
   "id": "3e2d034b",
   "metadata": {},
   "outputs": [],
   "source": [
    "import contextily as cx\n",
    "import matplotlib.pyplot as plt"
   ]
  },
  {
   "cell_type": "code",
   "execution_count": null,
   "id": "1cc833b8",
   "metadata": {},
   "outputs": [],
   "source": [
    "CRS = 'epsg:28992'"
   ]
  },
  {
   "cell_type": "code",
   "execution_count": null,
   "id": "0b78524d",
   "metadata": {},
   "outputs": [],
   "source": [
    "gdf_density_selection_dis = gdf_density_selection_dis.set_crs(CRS)"
   ]
  },
  {
   "cell_type": "code",
   "execution_count": null,
   "id": "bf8da5e4",
   "metadata": {},
   "outputs": [],
   "source": [
    "#fig, ax = plt.subplots(figsize=(8,8))\n",
    "#\n",
    "#gdf_density_selection_dis.boundary.plot(ax=ax)\n",
    "#gdf_density_selection_dis.plot(ax=ax, alpha=0.5)\n",
    "#\n",
    "## Background\n",
    "#cx.add_basemap(ax=ax, source=cx.providers.Esri.WorldImagery, crs=CRS)"
   ]
  },
  {
   "cell_type": "code",
   "execution_count": null,
   "id": "e050bcc1",
   "metadata": {},
   "outputs": [],
   "source": [
    "#fig, ax = plt.subplots(figsize=(8,8))\n",
    "#\n",
    "#gdf_density.set_geometry('buffer').boundary.plot(ax=ax)\n",
    "#gdf_density.set_geometry('buffer').plot(ax=ax, alpha=0.5)\n",
    "#\n",
    "## Background\n",
    "#cx.add_basemap(ax=ax, source=cx.providers.Esri.WorldImagery, crs=CRS)"
   ]
  },
  {
   "cell_type": "markdown",
   "id": "d7c3006b",
   "metadata": {},
   "source": [
    "### Check if light is inside valid area"
   ]
  },
  {
   "cell_type": "code",
   "execution_count": null,
   "id": "72c0b447",
   "metadata": {},
   "outputs": [],
   "source": [
    "gdf_density_selection_dis['PointCloudDekking'] = 1"
   ]
  },
  {
   "cell_type": "code",
   "execution_count": null,
   "id": "91eab96b",
   "metadata": {},
   "outputs": [],
   "source": [
    "gdf_merge = gdf.sjoin(gdf_density_selection_dis, how='left')"
   ]
  },
  {
   "cell_type": "code",
   "execution_count": null,
   "id": "d74bc840",
   "metadata": {},
   "outputs": [],
   "source": [
    "fig, ax = plt.subplots(figsize=(8,8))\n",
    "\n",
    "#gdf_density_selection_dis.boundary.plot(ax=ax)\n",
    "gdf_density_selection_dis.plot(ax=ax, alpha=0.5)\n",
    "\n",
    "gdf_merge.plot(ax=ax, color='red')\n",
    "gdf_merge.dropna(axis=0, subset='PointCloudDekking').plot(ax=ax, color='green')\n",
    "\n",
    "# Background\n",
    "cx.add_basemap(ax=ax, source=cx.providers.Esri.WorldImagery, crs=CRS)"
   ]
  },
  {
   "cell_type": "markdown",
   "id": "30fb2f2d",
   "metadata": {},
   "source": [
    "### Prepare for storing"
   ]
  },
  {
   "cell_type": "code",
   "execution_count": null,
   "id": "2e30a73b",
   "metadata": {},
   "outputs": [],
   "source": [
    "gdf_merge['PointCloudDekking'].fillna(0, inplace=True)"
   ]
  },
  {
   "cell_type": "code",
   "execution_count": null,
   "id": "aafd99c4",
   "metadata": {},
   "outputs": [],
   "source": [
    "gdf_merge.drop(['geometry', 'index_right'], axis=1, inplace=True)"
   ]
  },
  {
   "cell_type": "code",
   "execution_count": null,
   "id": "a54e2438",
   "metadata": {},
   "outputs": [],
   "source": [
    "gdf_merge['X'] = gdf_merge['X'].str.replace('.', ',', regex=False)\n",
    "gdf_merge['Y'] = gdf_merge['Y'].str.replace('.', ',', regex=False)"
   ]
  },
  {
   "cell_type": "code",
   "execution_count": null,
   "id": "b8a366f6",
   "metadata": {},
   "outputs": [],
   "source": [
    "gdf_merge.tail(3)"
   ]
  },
  {
   "cell_type": "markdown",
   "id": "4073c966",
   "metadata": {},
   "source": [
    "### Store"
   ]
  },
  {
   "cell_type": "code",
   "execution_count": null,
   "id": "f83c320d",
   "metadata": {},
   "outputs": [],
   "source": [
    "gdf_merge.to_csv(lights_out_file, sep=';')"
   ]
  }
 ],
 "metadata": {
  "kernelspec": {
   "display_name": "Python 3 (ipykernel)",
   "language": "python",
   "name": "python3"
  },
  "language_info": {
   "codemirror_mode": {
    "name": "ipython",
    "version": 3
   },
   "file_extension": ".py",
   "mimetype": "text/x-python",
   "name": "python",
   "nbconvert_exporter": "python",
   "pygments_lexer": "ipython3",
   "version": "3.10.3"
  }
 },
 "nbformat": 4,
 "nbformat_minor": 5
}
